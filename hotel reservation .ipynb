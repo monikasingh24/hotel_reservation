{
 "cells": [
  {
   "cell_type": "markdown",
   "id": "056946fc",
   "metadata": {},
   "source": [
    "About Dataset\n",
    "Context\n",
    "The online hotel reservation channels have dramatically changed booking possibilities and customers’ behavior. A significant number of hotel reservations are called-off due to cancellations or no-shows. The typical reasons for cancellations include change of plans, scheduling conflicts, etc. This is often made easier by the option to do so free of charge or preferably at a low cost which is beneficial to hotel guests but it is a less desirable and possibly revenue-diminishing factor for hotels to deal with.\n",
    "\n",
    "Can you predict if the customer is going to honor the reservation or cancel it ?"
   ]
  },
  {
   "cell_type": "code",
   "execution_count": 1,
   "id": "bffda2fc",
   "metadata": {},
   "outputs": [],
   "source": [
    "import pandas as pd\n",
    "import numpy as np\n",
    "import seaborn as sns\n",
    "import matplotlib.pyplot as plt\n",
    "import warnings\n",
    "warnings.filterwarnings('ignore')\n",
    "from scipy import stats\n"
   ]
  },
  {
   "cell_type": "code",
   "execution_count": 2,
   "id": "c87bd67b",
   "metadata": {},
   "outputs": [
    {
     "data": {
      "text/html": [
       "<div>\n",
       "<style scoped>\n",
       "    .dataframe tbody tr th:only-of-type {\n",
       "        vertical-align: middle;\n",
       "    }\n",
       "\n",
       "    .dataframe tbody tr th {\n",
       "        vertical-align: top;\n",
       "    }\n",
       "\n",
       "    .dataframe thead th {\n",
       "        text-align: right;\n",
       "    }\n",
       "</style>\n",
       "<table border=\"1\" class=\"dataframe\">\n",
       "  <thead>\n",
       "    <tr style=\"text-align: right;\">\n",
       "      <th></th>\n",
       "      <th>Booking_ID</th>\n",
       "      <th>no_of_adults</th>\n",
       "      <th>no_of_children</th>\n",
       "      <th>no_of_weekend_nights</th>\n",
       "      <th>no_of_week_nights</th>\n",
       "      <th>type_of_meal_plan</th>\n",
       "      <th>required_car_parking_space</th>\n",
       "      <th>room_type_reserved</th>\n",
       "      <th>lead_time</th>\n",
       "      <th>arrival_year</th>\n",
       "      <th>arrival_month</th>\n",
       "      <th>arrival_date</th>\n",
       "      <th>market_segment_type</th>\n",
       "      <th>repeated_guest</th>\n",
       "      <th>no_of_previous_cancellations</th>\n",
       "      <th>no_of_previous_bookings_not_canceled</th>\n",
       "      <th>avg_price_per_room</th>\n",
       "      <th>no_of_special_requests</th>\n",
       "      <th>booking_status</th>\n",
       "    </tr>\n",
       "  </thead>\n",
       "  <tbody>\n",
       "    <tr>\n",
       "      <th>0</th>\n",
       "      <td>INN00001</td>\n",
       "      <td>2</td>\n",
       "      <td>0</td>\n",
       "      <td>1</td>\n",
       "      <td>2</td>\n",
       "      <td>Meal Plan 1</td>\n",
       "      <td>0</td>\n",
       "      <td>Room_Type 1</td>\n",
       "      <td>224</td>\n",
       "      <td>2017</td>\n",
       "      <td>10</td>\n",
       "      <td>2</td>\n",
       "      <td>Offline</td>\n",
       "      <td>0</td>\n",
       "      <td>0</td>\n",
       "      <td>0</td>\n",
       "      <td>65.00</td>\n",
       "      <td>0</td>\n",
       "      <td>Not_Canceled</td>\n",
       "    </tr>\n",
       "    <tr>\n",
       "      <th>1</th>\n",
       "      <td>INN00002</td>\n",
       "      <td>2</td>\n",
       "      <td>0</td>\n",
       "      <td>2</td>\n",
       "      <td>3</td>\n",
       "      <td>Not Selected</td>\n",
       "      <td>0</td>\n",
       "      <td>Room_Type 1</td>\n",
       "      <td>5</td>\n",
       "      <td>2018</td>\n",
       "      <td>11</td>\n",
       "      <td>6</td>\n",
       "      <td>Online</td>\n",
       "      <td>0</td>\n",
       "      <td>0</td>\n",
       "      <td>0</td>\n",
       "      <td>106.68</td>\n",
       "      <td>1</td>\n",
       "      <td>Not_Canceled</td>\n",
       "    </tr>\n",
       "    <tr>\n",
       "      <th>2</th>\n",
       "      <td>INN00003</td>\n",
       "      <td>1</td>\n",
       "      <td>0</td>\n",
       "      <td>2</td>\n",
       "      <td>1</td>\n",
       "      <td>Meal Plan 1</td>\n",
       "      <td>0</td>\n",
       "      <td>Room_Type 1</td>\n",
       "      <td>1</td>\n",
       "      <td>2018</td>\n",
       "      <td>2</td>\n",
       "      <td>28</td>\n",
       "      <td>Online</td>\n",
       "      <td>0</td>\n",
       "      <td>0</td>\n",
       "      <td>0</td>\n",
       "      <td>60.00</td>\n",
       "      <td>0</td>\n",
       "      <td>Canceled</td>\n",
       "    </tr>\n",
       "    <tr>\n",
       "      <th>3</th>\n",
       "      <td>INN00004</td>\n",
       "      <td>2</td>\n",
       "      <td>0</td>\n",
       "      <td>0</td>\n",
       "      <td>2</td>\n",
       "      <td>Meal Plan 1</td>\n",
       "      <td>0</td>\n",
       "      <td>Room_Type 1</td>\n",
       "      <td>211</td>\n",
       "      <td>2018</td>\n",
       "      <td>5</td>\n",
       "      <td>20</td>\n",
       "      <td>Online</td>\n",
       "      <td>0</td>\n",
       "      <td>0</td>\n",
       "      <td>0</td>\n",
       "      <td>100.00</td>\n",
       "      <td>0</td>\n",
       "      <td>Canceled</td>\n",
       "    </tr>\n",
       "    <tr>\n",
       "      <th>4</th>\n",
       "      <td>INN00005</td>\n",
       "      <td>2</td>\n",
       "      <td>0</td>\n",
       "      <td>1</td>\n",
       "      <td>1</td>\n",
       "      <td>Not Selected</td>\n",
       "      <td>0</td>\n",
       "      <td>Room_Type 1</td>\n",
       "      <td>48</td>\n",
       "      <td>2018</td>\n",
       "      <td>4</td>\n",
       "      <td>11</td>\n",
       "      <td>Online</td>\n",
       "      <td>0</td>\n",
       "      <td>0</td>\n",
       "      <td>0</td>\n",
       "      <td>94.50</td>\n",
       "      <td>0</td>\n",
       "      <td>Canceled</td>\n",
       "    </tr>\n",
       "  </tbody>\n",
       "</table>\n",
       "</div>"
      ],
      "text/plain": [
       "  Booking_ID  no_of_adults  no_of_children  no_of_weekend_nights  \\\n",
       "0   INN00001             2               0                     1   \n",
       "1   INN00002             2               0                     2   \n",
       "2   INN00003             1               0                     2   \n",
       "3   INN00004             2               0                     0   \n",
       "4   INN00005             2               0                     1   \n",
       "\n",
       "   no_of_week_nights type_of_meal_plan  required_car_parking_space  \\\n",
       "0                  2       Meal Plan 1                           0   \n",
       "1                  3      Not Selected                           0   \n",
       "2                  1       Meal Plan 1                           0   \n",
       "3                  2       Meal Plan 1                           0   \n",
       "4                  1      Not Selected                           0   \n",
       "\n",
       "  room_type_reserved  lead_time  arrival_year  arrival_month  arrival_date  \\\n",
       "0        Room_Type 1        224          2017             10             2   \n",
       "1        Room_Type 1          5          2018             11             6   \n",
       "2        Room_Type 1          1          2018              2            28   \n",
       "3        Room_Type 1        211          2018              5            20   \n",
       "4        Room_Type 1         48          2018              4            11   \n",
       "\n",
       "  market_segment_type  repeated_guest  no_of_previous_cancellations  \\\n",
       "0             Offline               0                             0   \n",
       "1              Online               0                             0   \n",
       "2              Online               0                             0   \n",
       "3              Online               0                             0   \n",
       "4              Online               0                             0   \n",
       "\n",
       "   no_of_previous_bookings_not_canceled  avg_price_per_room  \\\n",
       "0                                     0               65.00   \n",
       "1                                     0              106.68   \n",
       "2                                     0               60.00   \n",
       "3                                     0              100.00   \n",
       "4                                     0               94.50   \n",
       "\n",
       "   no_of_special_requests booking_status  \n",
       "0                       0   Not_Canceled  \n",
       "1                       1   Not_Canceled  \n",
       "2                       0       Canceled  \n",
       "3                       0       Canceled  \n",
       "4                       0       Canceled  "
      ]
     },
     "execution_count": 2,
     "metadata": {},
     "output_type": "execute_result"
    }
   ],
   "source": [
    "df=pd.read_csv(\"Hotel Reservations.csv\")\n",
    "df.head()"
   ]
  },
  {
   "cell_type": "code",
   "execution_count": 3,
   "id": "a352a6ed",
   "metadata": {},
   "outputs": [
    {
     "data": {
      "text/html": [
       "<div>\n",
       "<style scoped>\n",
       "    .dataframe tbody tr th:only-of-type {\n",
       "        vertical-align: middle;\n",
       "    }\n",
       "\n",
       "    .dataframe tbody tr th {\n",
       "        vertical-align: top;\n",
       "    }\n",
       "\n",
       "    .dataframe thead th {\n",
       "        text-align: right;\n",
       "    }\n",
       "</style>\n",
       "<table border=\"1\" class=\"dataframe\">\n",
       "  <thead>\n",
       "    <tr style=\"text-align: right;\">\n",
       "      <th></th>\n",
       "      <th>Booking_ID</th>\n",
       "      <th>no_of_adults</th>\n",
       "      <th>no_of_children</th>\n",
       "      <th>no_of_weekend_nights</th>\n",
       "      <th>no_of_week_nights</th>\n",
       "      <th>type_of_meal_plan</th>\n",
       "      <th>required_car_parking_space</th>\n",
       "      <th>room_type_reserved</th>\n",
       "      <th>lead_time</th>\n",
       "      <th>arrival_year</th>\n",
       "      <th>arrival_month</th>\n",
       "      <th>arrival_date</th>\n",
       "      <th>market_segment_type</th>\n",
       "      <th>repeated_guest</th>\n",
       "      <th>no_of_previous_cancellations</th>\n",
       "      <th>no_of_previous_bookings_not_canceled</th>\n",
       "      <th>avg_price_per_room</th>\n",
       "      <th>no_of_special_requests</th>\n",
       "      <th>booking_status</th>\n",
       "    </tr>\n",
       "  </thead>\n",
       "  <tbody>\n",
       "    <tr>\n",
       "      <th>36270</th>\n",
       "      <td>INN36271</td>\n",
       "      <td>3</td>\n",
       "      <td>0</td>\n",
       "      <td>2</td>\n",
       "      <td>6</td>\n",
       "      <td>Meal Plan 1</td>\n",
       "      <td>0</td>\n",
       "      <td>Room_Type 4</td>\n",
       "      <td>85</td>\n",
       "      <td>2018</td>\n",
       "      <td>8</td>\n",
       "      <td>3</td>\n",
       "      <td>Online</td>\n",
       "      <td>0</td>\n",
       "      <td>0</td>\n",
       "      <td>0</td>\n",
       "      <td>167.80</td>\n",
       "      <td>1</td>\n",
       "      <td>Not_Canceled</td>\n",
       "    </tr>\n",
       "    <tr>\n",
       "      <th>36271</th>\n",
       "      <td>INN36272</td>\n",
       "      <td>2</td>\n",
       "      <td>0</td>\n",
       "      <td>1</td>\n",
       "      <td>3</td>\n",
       "      <td>Meal Plan 1</td>\n",
       "      <td>0</td>\n",
       "      <td>Room_Type 1</td>\n",
       "      <td>228</td>\n",
       "      <td>2018</td>\n",
       "      <td>10</td>\n",
       "      <td>17</td>\n",
       "      <td>Online</td>\n",
       "      <td>0</td>\n",
       "      <td>0</td>\n",
       "      <td>0</td>\n",
       "      <td>90.95</td>\n",
       "      <td>2</td>\n",
       "      <td>Canceled</td>\n",
       "    </tr>\n",
       "    <tr>\n",
       "      <th>36272</th>\n",
       "      <td>INN36273</td>\n",
       "      <td>2</td>\n",
       "      <td>0</td>\n",
       "      <td>2</td>\n",
       "      <td>6</td>\n",
       "      <td>Meal Plan 1</td>\n",
       "      <td>0</td>\n",
       "      <td>Room_Type 1</td>\n",
       "      <td>148</td>\n",
       "      <td>2018</td>\n",
       "      <td>7</td>\n",
       "      <td>1</td>\n",
       "      <td>Online</td>\n",
       "      <td>0</td>\n",
       "      <td>0</td>\n",
       "      <td>0</td>\n",
       "      <td>98.39</td>\n",
       "      <td>2</td>\n",
       "      <td>Not_Canceled</td>\n",
       "    </tr>\n",
       "    <tr>\n",
       "      <th>36273</th>\n",
       "      <td>INN36274</td>\n",
       "      <td>2</td>\n",
       "      <td>0</td>\n",
       "      <td>0</td>\n",
       "      <td>3</td>\n",
       "      <td>Not Selected</td>\n",
       "      <td>0</td>\n",
       "      <td>Room_Type 1</td>\n",
       "      <td>63</td>\n",
       "      <td>2018</td>\n",
       "      <td>4</td>\n",
       "      <td>21</td>\n",
       "      <td>Online</td>\n",
       "      <td>0</td>\n",
       "      <td>0</td>\n",
       "      <td>0</td>\n",
       "      <td>94.50</td>\n",
       "      <td>0</td>\n",
       "      <td>Canceled</td>\n",
       "    </tr>\n",
       "    <tr>\n",
       "      <th>36274</th>\n",
       "      <td>INN36275</td>\n",
       "      <td>2</td>\n",
       "      <td>0</td>\n",
       "      <td>1</td>\n",
       "      <td>2</td>\n",
       "      <td>Meal Plan 1</td>\n",
       "      <td>0</td>\n",
       "      <td>Room_Type 1</td>\n",
       "      <td>207</td>\n",
       "      <td>2018</td>\n",
       "      <td>12</td>\n",
       "      <td>30</td>\n",
       "      <td>Offline</td>\n",
       "      <td>0</td>\n",
       "      <td>0</td>\n",
       "      <td>0</td>\n",
       "      <td>161.67</td>\n",
       "      <td>0</td>\n",
       "      <td>Not_Canceled</td>\n",
       "    </tr>\n",
       "  </tbody>\n",
       "</table>\n",
       "</div>"
      ],
      "text/plain": [
       "      Booking_ID  no_of_adults  no_of_children  no_of_weekend_nights  \\\n",
       "36270   INN36271             3               0                     2   \n",
       "36271   INN36272             2               0                     1   \n",
       "36272   INN36273             2               0                     2   \n",
       "36273   INN36274             2               0                     0   \n",
       "36274   INN36275             2               0                     1   \n",
       "\n",
       "       no_of_week_nights type_of_meal_plan  required_car_parking_space  \\\n",
       "36270                  6       Meal Plan 1                           0   \n",
       "36271                  3       Meal Plan 1                           0   \n",
       "36272                  6       Meal Plan 1                           0   \n",
       "36273                  3      Not Selected                           0   \n",
       "36274                  2       Meal Plan 1                           0   \n",
       "\n",
       "      room_type_reserved  lead_time  arrival_year  arrival_month  \\\n",
       "36270        Room_Type 4         85          2018              8   \n",
       "36271        Room_Type 1        228          2018             10   \n",
       "36272        Room_Type 1        148          2018              7   \n",
       "36273        Room_Type 1         63          2018              4   \n",
       "36274        Room_Type 1        207          2018             12   \n",
       "\n",
       "       arrival_date market_segment_type  repeated_guest  \\\n",
       "36270             3              Online               0   \n",
       "36271            17              Online               0   \n",
       "36272             1              Online               0   \n",
       "36273            21              Online               0   \n",
       "36274            30             Offline               0   \n",
       "\n",
       "       no_of_previous_cancellations  no_of_previous_bookings_not_canceled  \\\n",
       "36270                             0                                     0   \n",
       "36271                             0                                     0   \n",
       "36272                             0                                     0   \n",
       "36273                             0                                     0   \n",
       "36274                             0                                     0   \n",
       "\n",
       "       avg_price_per_room  no_of_special_requests booking_status  \n",
       "36270              167.80                       1   Not_Canceled  \n",
       "36271               90.95                       2       Canceled  \n",
       "36272               98.39                       2   Not_Canceled  \n",
       "36273               94.50                       0       Canceled  \n",
       "36274              161.67                       0   Not_Canceled  "
      ]
     },
     "execution_count": 3,
     "metadata": {},
     "output_type": "execute_result"
    }
   ],
   "source": [
    "df.tail()"
   ]
  },
  {
   "cell_type": "markdown",
   "id": "f09f9a20",
   "metadata": {},
   "source": [
    "# Exploratory data analysis"
   ]
  },
  {
   "cell_type": "markdown",
   "id": "f452c297",
   "metadata": {},
   "source": [
    "# 1-Lets check the number of rows and columns in dataset "
   ]
  },
  {
   "cell_type": "code",
   "execution_count": 4,
   "id": "4a9f5036",
   "metadata": {},
   "outputs": [
    {
     "data": {
      "text/plain": [
       "(36275, 19)"
      ]
     },
     "execution_count": 4,
     "metadata": {},
     "output_type": "execute_result"
    }
   ],
   "source": [
    "df.shape"
   ]
  },
  {
   "cell_type": "markdown",
   "id": "a7583b53",
   "metadata": {},
   "source": [
    "# 2-Null Value Analysis"
   ]
  },
  {
   "cell_type": "code",
   "execution_count": 5,
   "id": "cb59d9a4",
   "metadata": {},
   "outputs": [
    {
     "name": "stdout",
     "output_type": "stream",
     "text": [
      "<class 'pandas.core.frame.DataFrame'>\n",
      "RangeIndex: 36275 entries, 0 to 36274\n",
      "Data columns (total 19 columns):\n",
      " #   Column                                Non-Null Count  Dtype  \n",
      "---  ------                                --------------  -----  \n",
      " 0   Booking_ID                            36275 non-null  object \n",
      " 1   no_of_adults                          36275 non-null  int64  \n",
      " 2   no_of_children                        36275 non-null  int64  \n",
      " 3   no_of_weekend_nights                  36275 non-null  int64  \n",
      " 4   no_of_week_nights                     36275 non-null  int64  \n",
      " 5   type_of_meal_plan                     36275 non-null  object \n",
      " 6   required_car_parking_space            36275 non-null  int64  \n",
      " 7   room_type_reserved                    36275 non-null  object \n",
      " 8   lead_time                             36275 non-null  int64  \n",
      " 9   arrival_year                          36275 non-null  int64  \n",
      " 10  arrival_month                         36275 non-null  int64  \n",
      " 11  arrival_date                          36275 non-null  int64  \n",
      " 12  market_segment_type                   36275 non-null  object \n",
      " 13  repeated_guest                        36275 non-null  int64  \n",
      " 14  no_of_previous_cancellations          36275 non-null  int64  \n",
      " 15  no_of_previous_bookings_not_canceled  36275 non-null  int64  \n",
      " 16  avg_price_per_room                    36275 non-null  float64\n",
      " 17  no_of_special_requests                36275 non-null  int64  \n",
      " 18  booking_status                        36275 non-null  object \n",
      "dtypes: float64(1), int64(13), object(5)\n",
      "memory usage: 5.3+ MB\n"
     ]
    }
   ],
   "source": [
    "df.info()"
   ]
  },
  {
   "cell_type": "markdown",
   "id": "135e9ddf",
   "metadata": {},
   "source": [
    "# Here No Null values are present"
   ]
  },
  {
   "cell_type": "markdown",
   "id": "36abcf30",
   "metadata": {},
   "source": [
    "# 3-Lets check the variance of the independent features"
   ]
  },
  {
   "cell_type": "code",
   "execution_count": 6,
   "id": "921b3824",
   "metadata": {
    "scrolled": false
   },
   "outputs": [
    {
     "data": {
      "text/plain": [
       "Booking_ID                              36275\n",
       "no_of_adults                                5\n",
       "no_of_children                              6\n",
       "no_of_weekend_nights                        8\n",
       "no_of_week_nights                          18\n",
       "type_of_meal_plan                           4\n",
       "required_car_parking_space                  2\n",
       "room_type_reserved                          7\n",
       "lead_time                                 352\n",
       "arrival_year                                2\n",
       "arrival_month                              12\n",
       "arrival_date                               31\n",
       "market_segment_type                         5\n",
       "repeated_guest                              2\n",
       "no_of_previous_cancellations                9\n",
       "no_of_previous_bookings_not_canceled       59\n",
       "avg_price_per_room                       3930\n",
       "no_of_special_requests                      6\n",
       "booking_status                              2\n",
       "dtype: int64"
      ]
     },
     "execution_count": 6,
     "metadata": {},
     "output_type": "execute_result"
    }
   ],
   "source": [
    "df.nunique()"
   ]
  },
  {
   "cell_type": "markdown",
   "id": "b2b05bcf",
   "metadata": {},
   "source": [
    "# Booking_id is unique for every person hence gives no menaingful insights hence can drop this column"
   ]
  },
  {
   "cell_type": "code",
   "execution_count": 7,
   "id": "e9457f2e",
   "metadata": {},
   "outputs": [],
   "source": [
    "df.drop(columns=['Booking_ID'],inplace=True)"
   ]
  },
  {
   "cell_type": "markdown",
   "id": "8acf4a6a",
   "metadata": {},
   "source": [
    "# Lets check the Visualisations with respect to taraget column \"booking_status\""
   ]
  },
  {
   "cell_type": "markdown",
   "id": "1c96fdfc",
   "metadata": {},
   "source": [
    "# Count plot analysis of independent feature type_of_meal_plan"
   ]
  },
  {
   "cell_type": "markdown",
   "id": "0d27f742",
   "metadata": {},
   "source": [
    "average price for cancellation and non cancellation are almost same but this feature has lots of outliers"
   ]
  },
  {
   "cell_type": "code",
   "execution_count": 8,
   "id": "05b976d7",
   "metadata": {},
   "outputs": [
    {
     "data": {
      "text/plain": [
       "Text(0.5, 1.0, 'Meal Plan Distribution')"
      ]
     },
     "execution_count": 8,
     "metadata": {},
     "output_type": "execute_result"
    },
    {
     "data": {
      "image/png": "[encoded data removed]",
      "text/plain": [
       "<Figure size 1440x360 with 1 Axes>"
      ]
     },
     "metadata": {
      "needs_background": "light"
     },
     "output_type": "display_data"
    }
   ],
   "source": [
    "plt.rcParams[\"figure.figsize\"] = (20,5)\n",
    "sns.countplot(x=\"type_of_meal_plan\", hue=\"booking_status\", data=df, palette=\"gist_heat\")\n",
    "plt.title(\"Meal Plan Distribution\")"
   ]
  },
  {
   "cell_type": "markdown",
   "id": "0fc940ac",
   "metadata": {},
   "source": [
    "Mostly people prefer meal plan 1 if they dont cancel their booking"
   ]
  },
  {
   "cell_type": "markdown",
   "id": "0eab8270",
   "metadata": {},
   "source": [
    "here we see that Meal plan 3 contribution is nearly zero hence this row can be dropped"
   ]
  },
  {
   "cell_type": "code",
   "execution_count": 9,
   "id": "4c93261f",
   "metadata": {},
   "outputs": [],
   "source": [
    "df['type_of_meal_plan'].replace('Meal Plan 3',np.nan,inplace=True)\n",
    "df.dropna(axis=0,how='any',thresh=None,subset='type_of_meal_plan',inplace=True)"
   ]
  },
  {
   "cell_type": "code",
   "execution_count": 10,
   "id": "520198da",
   "metadata": {},
   "outputs": [
    {
     "data": {
      "text/plain": [
       "Meal Plan 1     27835\n",
       "Not Selected     5130\n",
       "Meal Plan 2      3305\n",
       "Name: type_of_meal_plan, dtype: int64"
      ]
     },
     "execution_count": 10,
     "metadata": {},
     "output_type": "execute_result"
    }
   ],
   "source": [
    "df['type_of_meal_plan'].value_counts()"
   ]
  },
  {
   "cell_type": "code",
   "execution_count": 11,
   "id": "33b1ea22",
   "metadata": {},
   "outputs": [
    {
     "data": {
      "text/plain": [
       "(36270, 18)"
      ]
     },
     "execution_count": 11,
     "metadata": {},
     "output_type": "execute_result"
    }
   ],
   "source": [
    "df.shape"
   ]
  },
  {
   "cell_type": "markdown",
   "id": "1238ed0c",
   "metadata": {},
   "source": [
    "# Count plot analysis of independent feature market segment type"
   ]
  },
  {
   "cell_type": "code",
   "execution_count": 12,
   "id": "5770e7e5",
   "metadata": {},
   "outputs": [
    {
     "data": {
      "text/plain": [
       "Text(0.5, 1.0, 'Market Segment Distribution')"
      ]
     },
     "execution_count": 12,
     "metadata": {},
     "output_type": "execute_result"
    },
    {
     "data": {
      "image/png": "[encoded data removed]",
      "text/plain": [
       "<Figure size 1440x360 with 1 Axes>"
      ]
     },
     "metadata": {
      "needs_background": "light"
     },
     "output_type": "display_data"
    }
   ],
   "source": [
    "plt.rcParams[\"figure.figsize\"] = (20,5)\n",
    "sns.countplot(x=\"market_segment_type\", hue=\"booking_status\", data=df, palette=\"gist_heat\")\n",
    "plt.title(\"Market Segment Distribution\")"
   ]
  },
  {
   "cell_type": "code",
   "execution_count": 13,
   "id": "8ac48bfa",
   "metadata": {},
   "outputs": [],
   "source": [
    "df['market_segment_type'].replace(['Corporate','Aviation','Complementary'],[np.nan,np.nan,np.nan],inplace=True)\n",
    "df.dropna(axis=0,how='any',thresh=None,subset='market_segment_type',inplace=True)"
   ]
  },
  {
   "cell_type": "code",
   "execution_count": 14,
   "id": "e9f8985b",
   "metadata": {},
   "outputs": [
    {
     "data": {
      "text/plain": [
       "Online     23214\n",
       "Offline    10527\n",
       "Name: market_segment_type, dtype: int64"
      ]
     },
     "execution_count": 14,
     "metadata": {},
     "output_type": "execute_result"
    }
   ],
   "source": [
    "df['market_segment_type'].value_counts()"
   ]
  },
  {
   "cell_type": "code",
   "execution_count": 15,
   "id": "d3692a72",
   "metadata": {},
   "outputs": [
    {
     "data": {
      "text/plain": [
       "(33741, 18)"
      ]
     },
     "execution_count": 15,
     "metadata": {},
     "output_type": "execute_result"
    }
   ],
   "source": [
    "df.shape"
   ]
  },
  {
   "cell_type": "markdown",
   "id": "1d06c27f",
   "metadata": {},
   "source": [
    "# Count plot analysis of independent feature room_type_reserved"
   ]
  },
  {
   "cell_type": "markdown",
   "id": "f1c4e7d3",
   "metadata": {},
   "source": [
    "The Maximum data of booking cancelled and not cancelled is obtained from online booking and offline booking and hence rest are outliers"
   ]
  },
  {
   "cell_type": "code",
   "execution_count": 16,
   "id": "0741a71b",
   "metadata": {},
   "outputs": [
    {
     "data": {
      "text/plain": [
       "Text(0.5, 1.0, 'room_type_reserved')"
      ]
     },
     "execution_count": 16,
     "metadata": {},
     "output_type": "execute_result"
    },
    {
     "data": {
      "image/png": "[encoded data removed]",
      "text/plain": [
       "<Figure size 1440x360 with 1 Axes>"
      ]
     },
     "metadata": {
      "needs_background": "light"
     },
     "output_type": "display_data"
    }
   ],
   "source": [
    "plt.rcParams[\"figure.figsize\"] = (20,5)\n",
    "sns.countplot(x=\"room_type_reserved\", hue=\"booking_status\", data=df, palette=\"gist_heat\")\n",
    "plt.title(\"room_type_reserved\")"
   ]
  },
  {
   "cell_type": "code",
   "execution_count": 17,
   "id": "514311e6",
   "metadata": {},
   "outputs": [
    {
     "data": {
      "text/plain": [
       "Room_Type 1    77.02\n",
       "Room_Type 4    17.31\n",
       "Room_Type 6     2.81\n",
       "Room_Type 2     1.99\n",
       "Room_Type 5     0.52\n",
       "Room_Type 7     0.34\n",
       "Room_Type 3     0.01\n",
       "Name: room_type_reserved, dtype: float64"
      ]
     },
     "execution_count": 17,
     "metadata": {},
     "output_type": "execute_result"
    }
   ],
   "source": [
    "round(((df['room_type_reserved'].value_counts())/len(df))*100,2)"
   ]
  },
  {
   "cell_type": "markdown",
   "id": "166fd3b2",
   "metadata": {},
   "source": [
    "The visualisation and percentage of contribution tells us that Room_type_5,Room_type_7,Room_type_3 contribution is nearly equal to zero hence will drop these rows"
   ]
  },
  {
   "cell_type": "markdown",
   "id": "cfcb9700",
   "metadata": {},
   "source": [
    "The maximum booking belongs to Room_Type_1 and sometimes customers also prefer Room_type_4 "
   ]
  },
  {
   "cell_type": "code",
   "execution_count": 18,
   "id": "e02b5b13",
   "metadata": {},
   "outputs": [
    {
     "data": {
      "text/plain": [
       "Room_Type 1    25989\n",
       "Room_Type 4     5841\n",
       "Room_Type 6      949\n",
       "Room_Type 2      670\n",
       "Room_Type 5      174\n",
       "Room_Type 7      114\n",
       "Room_Type 3        4\n",
       "Name: room_type_reserved, dtype: int64"
      ]
     },
     "execution_count": 18,
     "metadata": {},
     "output_type": "execute_result"
    }
   ],
   "source": [
    "df['room_type_reserved'].value_counts()"
   ]
  },
  {
   "cell_type": "code",
   "execution_count": 19,
   "id": "5ff5bab4",
   "metadata": {},
   "outputs": [],
   "source": [
    "df['room_type_reserved'].replace(['Room_Type 6','Room_Type 2','Room_Type 5','Room_Type 7','Room_Type 3'],[np.nan,np.nan,np.nan,np.nan,np.nan],inplace=True)\n",
    "df.dropna(axis=0,how='any',thresh=None,subset='room_type_reserved',inplace=True)"
   ]
  },
  {
   "cell_type": "code",
   "execution_count": 20,
   "id": "a1a3211c",
   "metadata": {},
   "outputs": [
    {
     "data": {
      "text/plain": [
       "(31830, 18)"
      ]
     },
     "execution_count": 20,
     "metadata": {},
     "output_type": "execute_result"
    }
   ],
   "source": [
    "df.shape"
   ]
  },
  {
   "cell_type": "markdown",
   "id": "717f0e45",
   "metadata": {},
   "source": [
    "# Count plot analysis of independent feature repeated_guests"
   ]
  },
  {
   "cell_type": "code",
   "execution_count": 21,
   "id": "ecc55a78",
   "metadata": {},
   "outputs": [
    {
     "data": {
      "text/plain": [
       "Text(0.5, 1.0, 'repeated_guest')"
      ]
     },
     "execution_count": 21,
     "metadata": {},
     "output_type": "execute_result"
    },
    {
     "data": {
      "image/png": "[encoded data removed]",
      "text/plain": [
       "<Figure size 1440x360 with 1 Axes>"
      ]
     },
     "metadata": {
      "needs_background": "light"
     },
     "output_type": "display_data"
    }
   ],
   "source": [
    "plt.rcParams[\"figure.figsize\"] = (20,5)\n",
    "sns.countplot(x=\"repeated_guest\", hue=\"booking_status\", data=df, palette=\"gist_heat\")\n",
    "plt.title(\"repeated_guest\")"
   ]
  },
  {
   "cell_type": "markdown",
   "id": "d0d5c44d",
   "metadata": {},
   "source": [
    "lets check these values in percentage"
   ]
  },
  {
   "cell_type": "code",
   "execution_count": 22,
   "id": "04b7626d",
   "metadata": {},
   "outputs": [
    {
     "data": {
      "text/plain": [
       "0    99.43\n",
       "1     0.57\n",
       "Name: repeated_guest, dtype: float64"
      ]
     },
     "execution_count": 22,
     "metadata": {},
     "output_type": "execute_result"
    }
   ],
   "source": [
    "round(((df['repeated_guest'].value_counts())/len(df))*100,2)"
   ]
  },
  {
   "cell_type": "code",
   "execution_count": 23,
   "id": "a1e191e7",
   "metadata": {},
   "outputs": [],
   "source": [
    "df.drop(columns=['repeated_guest'],inplace=True)"
   ]
  },
  {
   "cell_type": "code",
   "execution_count": 24,
   "id": "a6a3975e",
   "metadata": {},
   "outputs": [
    {
     "data": {
      "text/plain": [
       "(31830, 17)"
      ]
     },
     "execution_count": 24,
     "metadata": {},
     "output_type": "execute_result"
    }
   ],
   "source": [
    "df.shape"
   ]
  },
  {
   "cell_type": "markdown",
   "id": "202eaa92",
   "metadata": {},
   "source": [
    "Since 97% of value belongs to category 0 this feature has nearly zero variance hence will drop this feature"
   ]
  },
  {
   "cell_type": "markdown",
   "id": "bdf441c7",
   "metadata": {},
   "source": [
    "# Count plot analysis of independent feature no_of_adults"
   ]
  },
  {
   "cell_type": "code",
   "execution_count": 25,
   "id": "7328e217",
   "metadata": {},
   "outputs": [
    {
     "data": {
      "text/plain": [
       "Text(0.5, 1.0, 'no_of_adults')"
      ]
     },
     "execution_count": 25,
     "metadata": {},
     "output_type": "execute_result"
    },
    {
     "data": {
      "image/png": "[encoded data removed]",
      "text/plain": [
       "<Figure size 1440x360 with 1 Axes>"
      ]
     },
     "metadata": {
      "needs_background": "light"
     },
     "output_type": "display_data"
    }
   ],
   "source": [
    "plt.rcParams[\"figure.figsize\"] = (20,5)\n",
    "sns.countplot(x=\"no_of_adults\", hue=\"booking_status\", data=df, palette=\"gist_heat\")\n",
    "plt.title(\"no_of_adults\")"
   ]
  },
  {
   "cell_type": "code",
   "execution_count": 26,
   "id": "84c5d587",
   "metadata": {},
   "outputs": [
    {
     "data": {
      "text/plain": [
       "2    75.13\n",
       "1    17.93\n",
       "3     6.93\n",
       "0     0.01\n",
       "4     0.00\n",
       "Name: no_of_adults, dtype: float64"
      ]
     },
     "execution_count": 26,
     "metadata": {},
     "output_type": "execute_result"
    }
   ],
   "source": [
    "round(((df['no_of_adults'].value_counts())/len(df))*100,2)"
   ]
  },
  {
   "cell_type": "code",
   "execution_count": 27,
   "id": "43b2c4df",
   "metadata": {},
   "outputs": [],
   "source": [
    "df['no_of_adults'].replace([0,4],[np.nan,np.nan],inplace=True)\n",
    "df.dropna(axis=0,how='any',thresh=None,subset='no_of_adults',inplace=True)"
   ]
  },
  {
   "cell_type": "code",
   "execution_count": 28,
   "id": "3862e1bb",
   "metadata": {},
   "outputs": [
    {
     "data": {
      "text/plain": [
       "(31827, 17)"
      ]
     },
     "execution_count": 28,
     "metadata": {},
     "output_type": "execute_result"
    }
   ],
   "source": [
    "df.shape"
   ]
  },
  {
   "cell_type": "code",
   "execution_count": 29,
   "id": "a98801c3",
   "metadata": {},
   "outputs": [
    {
     "data": {
      "text/plain": [
       "2.0    23915\n",
       "1.0     5706\n",
       "3.0     2206\n",
       "Name: no_of_adults, dtype: int64"
      ]
     },
     "execution_count": 29,
     "metadata": {},
     "output_type": "execute_result"
    }
   ],
   "source": [
    "df['no_of_adults'].value_counts()"
   ]
  },
  {
   "cell_type": "markdown",
   "id": "03c17084",
   "metadata": {},
   "source": [
    "# Count plot analysis of independent feature no_of_children"
   ]
  },
  {
   "cell_type": "code",
   "execution_count": 30,
   "id": "46344ac9",
   "metadata": {},
   "outputs": [
    {
     "data": {
      "text/plain": [
       "Text(0.5, 1.0, 'no_of_children')"
      ]
     },
     "execution_count": 30,
     "metadata": {},
     "output_type": "execute_result"
    },
    {
     "data": {
      "image/png": "[encoded data removed]",
      "text/plain": [
       "<Figure size 1440x360 with 1 Axes>"
      ]
     },
     "metadata": {
      "needs_background": "light"
     },
     "output_type": "display_data"
    }
   ],
   "source": [
    "plt.rcParams[\"figure.figsize\"] = (20,5)\n",
    "sns.countplot(x=\"no_of_children\", hue=\"booking_status\", data=df, palette=\"gist_heat\")\n",
    "plt.title(\"no_of_children\")"
   ]
  },
  {
   "cell_type": "code",
   "execution_count": 31,
   "id": "35df83e6",
   "metadata": {},
   "outputs": [
    {
     "data": {
      "text/plain": [
       "0     95.19\n",
       "1      4.67\n",
       "2      0.14\n",
       "10     0.00\n",
       "Name: no_of_children, dtype: float64"
      ]
     },
     "execution_count": 31,
     "metadata": {},
     "output_type": "execute_result"
    }
   ],
   "source": [
    "round(((df['no_of_children'].value_counts())/len(df))*100,2)"
   ]
  },
  {
   "cell_type": "code",
   "execution_count": 32,
   "id": "9c00dc76",
   "metadata": {},
   "outputs": [],
   "source": [
    "df['no_of_children'].replace([10],[np.nan],inplace=True)\n",
    "df.dropna(axis=0,how='any',thresh=None,subset='no_of_children',inplace=True)"
   ]
  },
  {
   "cell_type": "code",
   "execution_count": 33,
   "id": "91c1a51d",
   "metadata": {},
   "outputs": [
    {
     "data": {
      "text/plain": [
       "0.0    30296\n",
       "1.0     1485\n",
       "2.0       45\n",
       "Name: no_of_children, dtype: int64"
      ]
     },
     "execution_count": 33,
     "metadata": {},
     "output_type": "execute_result"
    }
   ],
   "source": [
    "df['no_of_children'].value_counts()"
   ]
  },
  {
   "cell_type": "code",
   "execution_count": 34,
   "id": "cb0601ee",
   "metadata": {},
   "outputs": [
    {
     "data": {
      "text/plain": [
       "(31826, 17)"
      ]
     },
     "execution_count": 34,
     "metadata": {},
     "output_type": "execute_result"
    }
   ],
   "source": [
    "df.shape"
   ]
  },
  {
   "cell_type": "markdown",
   "id": "f704839f",
   "metadata": {},
   "source": [
    "# Count plot analysis of independent feature no_of_weekend_nights"
   ]
  },
  {
   "cell_type": "code",
   "execution_count": 35,
   "id": "d7e926f4",
   "metadata": {},
   "outputs": [
    {
     "data": {
      "text/plain": [
       "Text(0.5, 1.0, 'no_of_weekend_nights')"
      ]
     },
     "execution_count": 35,
     "metadata": {},
     "output_type": "execute_result"
    },
    {
     "data": {
      "image/png": "[encoded data removed]",
      "text/plain": [
       "<Figure size 1440x360 with 1 Axes>"
      ]
     },
     "metadata": {
      "needs_background": "light"
     },
     "output_type": "display_data"
    }
   ],
   "source": [
    "plt.rcParams[\"figure.figsize\"] = (20,5)\n",
    "sns.countplot(x=\"no_of_weekend_nights\", hue=\"booking_status\", data=df, palette=\"gist_heat\")\n",
    "plt.title(\"no_of_weekend_nights\")"
   ]
  },
  {
   "cell_type": "markdown",
   "id": "e8625378",
   "metadata": {},
   "source": [
    "here no of weekend_nights beyond 2 are outliers lets remove these"
   ]
  },
  {
   "cell_type": "code",
   "execution_count": 36,
   "id": "75401625",
   "metadata": {},
   "outputs": [],
   "source": [
    "df['no_of_weekend_nights'].replace([5,6,7],[np.nan,np.nan,np.nan],inplace=True)\n",
    "df.dropna(axis=0,how='any',thresh=None,subset='no_of_weekend_nights',inplace=True)"
   ]
  },
  {
   "cell_type": "markdown",
   "id": "bbb8754f",
   "metadata": {},
   "source": [
    "# Count plot analysis of independent feature no_of_week_nights"
   ]
  },
  {
   "cell_type": "code",
   "execution_count": 37,
   "id": "371d8803",
   "metadata": {},
   "outputs": [
    {
     "data": {
      "text/plain": [
       "Text(0.5, 1.0, 'no_of_week_nights')"
      ]
     },
     "execution_count": 37,
     "metadata": {},
     "output_type": "execute_result"
    },
    {
     "data": {
      "image/png": "[encoded data removed]",
      "text/plain": [
       "<Figure size 1440x360 with 1 Axes>"
      ]
     },
     "metadata": {
      "needs_background": "light"
     },
     "output_type": "display_data"
    }
   ],
   "source": [
    "plt.rcParams[\"figure.figsize\"] = (20,5)\n",
    "sns.countplot(x=\"no_of_week_nights\", hue=\"booking_status\", data=df, palette=\"gist_heat\")\n",
    "plt.title(\"no_of_week_nights\")"
   ]
  },
  {
   "cell_type": "markdown",
   "id": "789c546c",
   "metadata": {},
   "source": [
    "# Count plot analysis of independent feature arrival_month"
   ]
  },
  {
   "cell_type": "code",
   "execution_count": 38,
   "id": "94bf8054",
   "metadata": {},
   "outputs": [
    {
     "data": {
      "text/plain": [
       "Text(0.5, 1.0, 'arrival_month')"
      ]
     },
     "execution_count": 38,
     "metadata": {},
     "output_type": "execute_result"
    },
    {
     "data": {
      "image/png": "[encoded data removed]",
      "text/plain": [
       "<Figure size 1440x360 with 1 Axes>"
      ]
     },
     "metadata": {
      "needs_background": "light"
     },
     "output_type": "display_data"
    }
   ],
   "source": [
    "plt.rcParams[\"figure.figsize\"] = (20,5)\n",
    "sns.countplot(x=\"arrival_month\", hue=\"booking_status\", data=df, palette=\"gist_heat\")\n",
    "plt.title(\"arrival_month\")"
   ]
  },
  {
   "cell_type": "markdown",
   "id": "6b97a555",
   "metadata": {},
   "source": [
    "# Count plot analysis of independent feature arrival_year"
   ]
  },
  {
   "cell_type": "code",
   "execution_count": 39,
   "id": "0e2ae0ed",
   "metadata": {},
   "outputs": [
    {
     "data": {
      "text/plain": [
       "Text(0.5, 1.0, 'arrival_year')"
      ]
     },
     "execution_count": 39,
     "metadata": {},
     "output_type": "execute_result"
    },
    {
     "data": {
      "image/png": "[encoded data removed]",
      "text/plain": [
       "<Figure size 1440x360 with 1 Axes>"
      ]
     },
     "metadata": {
      "needs_background": "light"
     },
     "output_type": "display_data"
    }
   ],
   "source": [
    "plt.rcParams[\"figure.figsize\"] = (20,5)\n",
    "sns.countplot(x=\"arrival_year\", hue=\"booking_status\", data=df, palette=\"gist_heat\")\n",
    "plt.title(\"arrival_year\")"
   ]
  },
  {
   "cell_type": "code",
   "execution_count": 40,
   "id": "40ebd6c2",
   "metadata": {},
   "outputs": [
    {
     "data": {
      "text/plain": [
       "2018    82.42\n",
       "2017    17.58\n",
       "Name: arrival_year, dtype: float64"
      ]
     },
     "execution_count": 40,
     "metadata": {},
     "output_type": "execute_result"
    }
   ],
   "source": [
    "round(((df['arrival_year'].value_counts())/len(df))*100,2)"
   ]
  },
  {
   "cell_type": "code",
   "execution_count": 41,
   "id": "5114fc56",
   "metadata": {},
   "outputs": [],
   "source": [
    "#here mostly booking was done in 2018 \n",
    "df.drop(columns=['arrival_year'],inplace=True)"
   ]
  },
  {
   "cell_type": "markdown",
   "id": "0d3aeafa",
   "metadata": {},
   "source": [
    "# percentage contribution of no_of_previous_cancellations"
   ]
  },
  {
   "cell_type": "code",
   "execution_count": 42,
   "id": "19faed4b",
   "metadata": {},
   "outputs": [
    {
     "data": {
      "text/plain": [
       "0     99.62\n",
       "1      0.29\n",
       "11     0.08\n",
       "13     0.01\n",
       "2      0.00\n",
       "3      0.00\n",
       "Name: no_of_previous_cancellations, dtype: float64"
      ]
     },
     "execution_count": 42,
     "metadata": {},
     "output_type": "execute_result"
    }
   ],
   "source": [
    "round(((df['no_of_previous_cancellations'].value_counts())/len(df))*100,2)"
   ]
  },
  {
   "cell_type": "markdown",
   "id": "59bff148",
   "metadata": {},
   "source": [
    "from here we get that 99% people did not cancel their bookings previously hence this column has nearly zero variance and hence we can drop this column"
   ]
  },
  {
   "cell_type": "markdown",
   "id": "2b628176",
   "metadata": {},
   "source": [
    "# Count plot analysis of independent feature no_of_previous_bookings_not_canceled"
   ]
  },
  {
   "cell_type": "code",
   "execution_count": 43,
   "id": "e943d6cf",
   "metadata": {},
   "outputs": [
    {
     "data": {
      "text/plain": [
       "Text(0.5, 1.0, 'no_of_previous_bookings_not_canceled')"
      ]
     },
     "execution_count": 43,
     "metadata": {},
     "output_type": "execute_result"
    },
    {
     "data": {
      "image/png": "[encoded data removed]",
      "text/plain": [
       "<Figure size 1440x360 with 1 Axes>"
      ]
     },
     "metadata": {
      "needs_background": "light"
     },
     "output_type": "display_data"
    }
   ],
   "source": [
    "plt.rcParams[\"figure.figsize\"] = (20,5)\n",
    "sns.countplot(x=\"no_of_previous_bookings_not_canceled\", hue=\"booking_status\", data=df, palette=\"gist_heat\")\n",
    "plt.title(\"no_of_previous_bookings_not_canceled\")"
   ]
  },
  {
   "cell_type": "markdown",
   "id": "fb8562de",
   "metadata": {},
   "source": [
    "lets drop columns no_of_previous_cancellations,no_of_previous_bookings_not_canceled as they dosent of variety in columns"
   ]
  },
  {
   "cell_type": "code",
   "execution_count": 44,
   "id": "55b23627",
   "metadata": {},
   "outputs": [],
   "source": [
    "df.drop(columns=['no_of_previous_cancellations','no_of_previous_bookings_not_canceled'],inplace=True)"
   ]
  },
  {
   "cell_type": "markdown",
   "id": "5dd07d4e",
   "metadata": {},
   "source": [
    "# Count plot analysis of independent feature no_of_special_requests"
   ]
  },
  {
   "cell_type": "code",
   "execution_count": null,
   "id": "3260c4cc",
   "metadata": {},
   "outputs": [],
   "source": []
  },
  {
   "cell_type": "code",
   "execution_count": 45,
   "id": "9663fd1a",
   "metadata": {},
   "outputs": [
    {
     "data": {
      "text/plain": [
       "Text(0.5, 1.0, 'no_of_special_requests')"
      ]
     },
     "execution_count": 45,
     "metadata": {},
     "output_type": "execute_result"
    },
    {
     "data": {
      "image/png": "[encoded data removed]",
      "text/plain": [
       "<Figure size 1440x360 with 1 Axes>"
      ]
     },
     "metadata": {
      "needs_background": "light"
     },
     "output_type": "display_data"
    }
   ],
   "source": [
    "plt.rcParams[\"figure.figsize\"] = (20,5)\n",
    "sns.countplot(x=\"no_of_special_requests\", hue=\"booking_status\", data=df, palette=\"gist_heat\")\n",
    "plt.title(\"no_of_special_requests\")"
   ]
  },
  {
   "cell_type": "markdown",
   "id": "efc78b43",
   "metadata": {},
   "source": [
    "most customers with special request 1,2,3 are not willing to cancel their bookings where as customers with special request 0 may or may not cancel their boooking"
   ]
  },
  {
   "cell_type": "markdown",
   "id": "0a799f38",
   "metadata": {},
   "source": [
    "# Count plot analysis of independent feature required_car_parking_space"
   ]
  },
  {
   "cell_type": "code",
   "execution_count": 46,
   "id": "dc5e9b06",
   "metadata": {},
   "outputs": [
    {
     "data": {
      "text/plain": [
       "0    97.47\n",
       "1     2.53\n",
       "Name: required_car_parking_space, dtype: float64"
      ]
     },
     "execution_count": 46,
     "metadata": {},
     "output_type": "execute_result"
    }
   ],
   "source": [
    " round(((df['required_car_parking_space'].value_counts())/len(df))*100,2)"
   ]
  },
  {
   "cell_type": "code",
   "execution_count": 47,
   "id": "c1e934df",
   "metadata": {},
   "outputs": [
    {
     "data": {
      "text/plain": [
       "Text(0.5, 1.0, 'required_car_parking_space')"
      ]
     },
     "execution_count": 47,
     "metadata": {},
     "output_type": "execute_result"
    },
    {
     "data": {
      "image/png": "[encoded data removed]",
      "text/plain": [
       "<Figure size 1440x360 with 1 Axes>"
      ]
     },
     "metadata": {
      "needs_background": "light"
     },
     "output_type": "display_data"
    }
   ],
   "source": [
    "plt.rcParams[\"figure.figsize\"] = (20,5)\n",
    "sns.countplot(x=\"required_car_parking_space\", hue=\"booking_status\", data=df, palette=\"gist_heat\")\n",
    "plt.title(\"required_car_parking_space\")"
   ]
  },
  {
   "cell_type": "code",
   "execution_count": 48,
   "id": "941cb4f0",
   "metadata": {},
   "outputs": [],
   "source": [
    "df.drop(columns=['required_car_parking_space'],inplace=True)"
   ]
  },
  {
   "cell_type": "code",
   "execution_count": 49,
   "id": "910d851f",
   "metadata": {},
   "outputs": [
    {
     "data": {
      "text/plain": [
       "(31787, 13)"
      ]
     },
     "execution_count": 49,
     "metadata": {},
     "output_type": "execute_result"
    }
   ],
   "source": [
    "df.shape"
   ]
  },
  {
   "cell_type": "code",
   "execution_count": 50,
   "id": "c53d3fd7",
   "metadata": {},
   "outputs": [
    {
     "data": {
      "text/html": [
       "<div>\n",
       "<style scoped>\n",
       "    .dataframe tbody tr th:only-of-type {\n",
       "        vertical-align: middle;\n",
       "    }\n",
       "\n",
       "    .dataframe tbody tr th {\n",
       "        vertical-align: top;\n",
       "    }\n",
       "\n",
       "    .dataframe thead th {\n",
       "        text-align: right;\n",
       "    }\n",
       "</style>\n",
       "<table border=\"1\" class=\"dataframe\">\n",
       "  <thead>\n",
       "    <tr style=\"text-align: right;\">\n",
       "      <th></th>\n",
       "      <th>no_of_adults</th>\n",
       "      <th>no_of_children</th>\n",
       "      <th>no_of_weekend_nights</th>\n",
       "      <th>no_of_week_nights</th>\n",
       "      <th>type_of_meal_plan</th>\n",
       "      <th>room_type_reserved</th>\n",
       "      <th>lead_time</th>\n",
       "      <th>arrival_month</th>\n",
       "      <th>arrival_date</th>\n",
       "      <th>market_segment_type</th>\n",
       "      <th>avg_price_per_room</th>\n",
       "      <th>no_of_special_requests</th>\n",
       "      <th>booking_status</th>\n",
       "    </tr>\n",
       "  </thead>\n",
       "  <tbody>\n",
       "    <tr>\n",
       "      <th>0</th>\n",
       "      <td>2.0</td>\n",
       "      <td>0.0</td>\n",
       "      <td>1.0</td>\n",
       "      <td>2</td>\n",
       "      <td>Meal Plan 1</td>\n",
       "      <td>Room_Type 1</td>\n",
       "      <td>224</td>\n",
       "      <td>10</td>\n",
       "      <td>2</td>\n",
       "      <td>Offline</td>\n",
       "      <td>65.00</td>\n",
       "      <td>0</td>\n",
       "      <td>Not_Canceled</td>\n",
       "    </tr>\n",
       "    <tr>\n",
       "      <th>1</th>\n",
       "      <td>2.0</td>\n",
       "      <td>0.0</td>\n",
       "      <td>2.0</td>\n",
       "      <td>3</td>\n",
       "      <td>Not Selected</td>\n",
       "      <td>Room_Type 1</td>\n",
       "      <td>5</td>\n",
       "      <td>11</td>\n",
       "      <td>6</td>\n",
       "      <td>Online</td>\n",
       "      <td>106.68</td>\n",
       "      <td>1</td>\n",
       "      <td>Not_Canceled</td>\n",
       "    </tr>\n",
       "  </tbody>\n",
       "</table>\n",
       "</div>"
      ],
      "text/plain": [
       "   no_of_adults  no_of_children  no_of_weekend_nights  no_of_week_nights  \\\n",
       "0           2.0             0.0                   1.0                  2   \n",
       "1           2.0             0.0                   2.0                  3   \n",
       "\n",
       "  type_of_meal_plan room_type_reserved  lead_time  arrival_month  \\\n",
       "0       Meal Plan 1        Room_Type 1        224             10   \n",
       "1      Not Selected        Room_Type 1          5             11   \n",
       "\n",
       "   arrival_date market_segment_type  avg_price_per_room  \\\n",
       "0             2             Offline               65.00   \n",
       "1             6              Online              106.68   \n",
       "\n",
       "   no_of_special_requests booking_status  \n",
       "0                       0   Not_Canceled  \n",
       "1                       1   Not_Canceled  "
      ]
     },
     "execution_count": 50,
     "metadata": {},
     "output_type": "execute_result"
    }
   ],
   "source": [
    "df.head(2)"
   ]
  },
  {
   "cell_type": "markdown",
   "id": "cac0a6b9",
   "metadata": {},
   "source": [
    "# 4-Lets check for categorcal values in independent features and target column"
   ]
  },
  {
   "cell_type": "markdown",
   "id": "01c87ce7",
   "metadata": {},
   "source": [
    "#Independent features such as 'type_of_meal_plan','room_type_reserved','market_segment_type','booking_status' are categorical in nature\n",
    "#first we should convert it to numerical values As model dosent understand the categorical values"
   ]
  },
  {
   "cell_type": "markdown",
   "id": "0911c7f3",
   "metadata": {},
   "source": [
    "# Lets import one hot encoding from sk learn library and convert categorical features to numerical"
   ]
  },
  {
   "cell_type": "code",
   "execution_count": 51,
   "id": "38f8f8ae",
   "metadata": {},
   "outputs": [],
   "source": [
    "from sklearn.preprocessing import OneHotEncoder \n",
    "#since here we have a problem of multicollinearity we will drop\n",
    "ohe = OneHotEncoder(dtype=np.int32) #Initialising"
   ]
  },
  {
   "cell_type": "code",
   "execution_count": 52,
   "id": "695efbdc",
   "metadata": {},
   "outputs": [],
   "source": [
    "df['type_of_meal_plan']=ohe.fit_transform(df[['type_of_meal_plan']]).toarray()\n",
    "df['room_type_reserved']=ohe.fit_transform(df[['room_type_reserved']]).toarray()\n",
    "df['market_segment_type']=ohe.fit_transform(df[['market_segment_type']]).toarray()\n",
    "df['booking_status']=ohe.fit_transform(df[['booking_status']]).toarray()"
   ]
  },
  {
   "cell_type": "markdown",
   "id": "541b8a22",
   "metadata": {},
   "source": [
    "# All the categorical values are converted to numerical value now we are good to go"
   ]
  },
  {
   "cell_type": "code",
   "execution_count": 53,
   "id": "3c4eebef",
   "metadata": {},
   "outputs": [
    {
     "data": {
      "text/html": [
       "<div>\n",
       "<style scoped>\n",
       "    .dataframe tbody tr th:only-of-type {\n",
       "        vertical-align: middle;\n",
       "    }\n",
       "\n",
       "    .dataframe tbody tr th {\n",
       "        vertical-align: top;\n",
       "    }\n",
       "\n",
       "    .dataframe thead th {\n",
       "        text-align: right;\n",
       "    }\n",
       "</style>\n",
       "<table border=\"1\" class=\"dataframe\">\n",
       "  <thead>\n",
       "    <tr style=\"text-align: right;\">\n",
       "      <th></th>\n",
       "      <th>no_of_adults</th>\n",
       "      <th>no_of_children</th>\n",
       "      <th>no_of_weekend_nights</th>\n",
       "      <th>no_of_week_nights</th>\n",
       "      <th>type_of_meal_plan</th>\n",
       "      <th>room_type_reserved</th>\n",
       "      <th>lead_time</th>\n",
       "      <th>arrival_month</th>\n",
       "      <th>arrival_date</th>\n",
       "      <th>market_segment_type</th>\n",
       "      <th>avg_price_per_room</th>\n",
       "      <th>no_of_special_requests</th>\n",
       "      <th>booking_status</th>\n",
       "    </tr>\n",
       "  </thead>\n",
       "  <tbody>\n",
       "    <tr>\n",
       "      <th>0</th>\n",
       "      <td>2.0</td>\n",
       "      <td>0.0</td>\n",
       "      <td>1.0</td>\n",
       "      <td>2</td>\n",
       "      <td>1</td>\n",
       "      <td>1</td>\n",
       "      <td>224</td>\n",
       "      <td>10</td>\n",
       "      <td>2</td>\n",
       "      <td>1</td>\n",
       "      <td>65.00</td>\n",
       "      <td>0</td>\n",
       "      <td>0</td>\n",
       "    </tr>\n",
       "    <tr>\n",
       "      <th>1</th>\n",
       "      <td>2.0</td>\n",
       "      <td>0.0</td>\n",
       "      <td>2.0</td>\n",
       "      <td>3</td>\n",
       "      <td>0</td>\n",
       "      <td>1</td>\n",
       "      <td>5</td>\n",
       "      <td>11</td>\n",
       "      <td>6</td>\n",
       "      <td>0</td>\n",
       "      <td>106.68</td>\n",
       "      <td>1</td>\n",
       "      <td>0</td>\n",
       "    </tr>\n",
       "    <tr>\n",
       "      <th>2</th>\n",
       "      <td>1.0</td>\n",
       "      <td>0.0</td>\n",
       "      <td>2.0</td>\n",
       "      <td>1</td>\n",
       "      <td>1</td>\n",
       "      <td>1</td>\n",
       "      <td>1</td>\n",
       "      <td>2</td>\n",
       "      <td>28</td>\n",
       "      <td>0</td>\n",
       "      <td>60.00</td>\n",
       "      <td>0</td>\n",
       "      <td>1</td>\n",
       "    </tr>\n",
       "    <tr>\n",
       "      <th>3</th>\n",
       "      <td>2.0</td>\n",
       "      <td>0.0</td>\n",
       "      <td>0.0</td>\n",
       "      <td>2</td>\n",
       "      <td>1</td>\n",
       "      <td>1</td>\n",
       "      <td>211</td>\n",
       "      <td>5</td>\n",
       "      <td>20</td>\n",
       "      <td>0</td>\n",
       "      <td>100.00</td>\n",
       "      <td>0</td>\n",
       "      <td>1</td>\n",
       "    </tr>\n",
       "    <tr>\n",
       "      <th>4</th>\n",
       "      <td>2.0</td>\n",
       "      <td>0.0</td>\n",
       "      <td>1.0</td>\n",
       "      <td>1</td>\n",
       "      <td>0</td>\n",
       "      <td>1</td>\n",
       "      <td>48</td>\n",
       "      <td>4</td>\n",
       "      <td>11</td>\n",
       "      <td>0</td>\n",
       "      <td>94.50</td>\n",
       "      <td>0</td>\n",
       "      <td>1</td>\n",
       "    </tr>\n",
       "    <tr>\n",
       "      <th>5</th>\n",
       "      <td>2.0</td>\n",
       "      <td>0.0</td>\n",
       "      <td>0.0</td>\n",
       "      <td>2</td>\n",
       "      <td>0</td>\n",
       "      <td>1</td>\n",
       "      <td>346</td>\n",
       "      <td>9</td>\n",
       "      <td>13</td>\n",
       "      <td>0</td>\n",
       "      <td>115.00</td>\n",
       "      <td>1</td>\n",
       "      <td>1</td>\n",
       "    </tr>\n",
       "    <tr>\n",
       "      <th>6</th>\n",
       "      <td>2.0</td>\n",
       "      <td>0.0</td>\n",
       "      <td>1.0</td>\n",
       "      <td>3</td>\n",
       "      <td>1</td>\n",
       "      <td>1</td>\n",
       "      <td>34</td>\n",
       "      <td>10</td>\n",
       "      <td>15</td>\n",
       "      <td>0</td>\n",
       "      <td>107.55</td>\n",
       "      <td>1</td>\n",
       "      <td>0</td>\n",
       "    </tr>\n",
       "    <tr>\n",
       "      <th>7</th>\n",
       "      <td>2.0</td>\n",
       "      <td>0.0</td>\n",
       "      <td>1.0</td>\n",
       "      <td>3</td>\n",
       "      <td>1</td>\n",
       "      <td>0</td>\n",
       "      <td>83</td>\n",
       "      <td>12</td>\n",
       "      <td>26</td>\n",
       "      <td>0</td>\n",
       "      <td>105.61</td>\n",
       "      <td>1</td>\n",
       "      <td>0</td>\n",
       "    </tr>\n",
       "    <tr>\n",
       "      <th>8</th>\n",
       "      <td>3.0</td>\n",
       "      <td>0.0</td>\n",
       "      <td>0.0</td>\n",
       "      <td>4</td>\n",
       "      <td>1</td>\n",
       "      <td>1</td>\n",
       "      <td>121</td>\n",
       "      <td>7</td>\n",
       "      <td>6</td>\n",
       "      <td>1</td>\n",
       "      <td>96.90</td>\n",
       "      <td>1</td>\n",
       "      <td>0</td>\n",
       "    </tr>\n",
       "    <tr>\n",
       "      <th>9</th>\n",
       "      <td>2.0</td>\n",
       "      <td>0.0</td>\n",
       "      <td>0.0</td>\n",
       "      <td>5</td>\n",
       "      <td>1</td>\n",
       "      <td>0</td>\n",
       "      <td>44</td>\n",
       "      <td>10</td>\n",
       "      <td>18</td>\n",
       "      <td>0</td>\n",
       "      <td>133.44</td>\n",
       "      <td>3</td>\n",
       "      <td>0</td>\n",
       "    </tr>\n",
       "  </tbody>\n",
       "</table>\n",
       "</div>"
      ],
      "text/plain": [
       "   no_of_adults  no_of_children  no_of_weekend_nights  no_of_week_nights  \\\n",
       "0           2.0             0.0                   1.0                  2   \n",
       "1           2.0             0.0                   2.0                  3   \n",
       "2           1.0             0.0                   2.0                  1   \n",
       "3           2.0             0.0                   0.0                  2   \n",
       "4           2.0             0.0                   1.0                  1   \n",
       "5           2.0             0.0                   0.0                  2   \n",
       "6           2.0             0.0                   1.0                  3   \n",
       "7           2.0             0.0                   1.0                  3   \n",
       "8           3.0             0.0                   0.0                  4   \n",
       "9           2.0             0.0                   0.0                  5   \n",
       "\n",
       "   type_of_meal_plan  room_type_reserved  lead_time  arrival_month  \\\n",
       "0                  1                   1        224             10   \n",
       "1                  0                   1          5             11   \n",
       "2                  1                   1          1              2   \n",
       "3                  1                   1        211              5   \n",
       "4                  0                   1         48              4   \n",
       "5                  0                   1        346              9   \n",
       "6                  1                   1         34             10   \n",
       "7                  1                   0         83             12   \n",
       "8                  1                   1        121              7   \n",
       "9                  1                   0         44             10   \n",
       "\n",
       "   arrival_date  market_segment_type  avg_price_per_room  \\\n",
       "0             2                    1               65.00   \n",
       "1             6                    0              106.68   \n",
       "2            28                    0               60.00   \n",
       "3            20                    0              100.00   \n",
       "4            11                    0               94.50   \n",
       "5            13                    0              115.00   \n",
       "6            15                    0              107.55   \n",
       "7            26                    0              105.61   \n",
       "8             6                    1               96.90   \n",
       "9            18                    0              133.44   \n",
       "\n",
       "   no_of_special_requests  booking_status  \n",
       "0                       0               0  \n",
       "1                       1               0  \n",
       "2                       0               1  \n",
       "3                       0               1  \n",
       "4                       0               1  \n",
       "5                       1               1  \n",
       "6                       1               0  \n",
       "7                       1               0  \n",
       "8                       1               0  \n",
       "9                       3               0  "
      ]
     },
     "execution_count": 53,
     "metadata": {},
     "output_type": "execute_result"
    }
   ],
   "source": [
    "df.head(10)"
   ]
  },
  {
   "cell_type": "code",
   "execution_count": null,
   "id": "cee0cb37",
   "metadata": {},
   "outputs": [],
   "source": []
  },
  {
   "cell_type": "markdown",
   "id": "e97d4319",
   "metadata": {},
   "source": [
    "# 5- Lets check whether the data of target column is balanced or imbalanced"
   ]
  },
  {
   "cell_type": "code",
   "execution_count": 54,
   "id": "761b3c24",
   "metadata": {},
   "outputs": [
    {
     "data": {
      "text/plain": [
       "<AxesSubplot:xlabel='booking_status', ylabel='count'>"
      ]
     },
     "execution_count": 54,
     "metadata": {},
     "output_type": "execute_result"
    },
    {
     "data": {
      "image/png": "[encoded data removed]",
      "text/plain": [
       "<Figure size 1440x360 with 1 Axes>"
      ]
     },
     "metadata": {},
     "output_type": "display_data"
    }
   ],
   "source": [
    "sns.set_style('whitegrid')\n",
    "sns.countplot(x='booking_status',data=df)"
   ]
  },
  {
   "cell_type": "code",
   "execution_count": 55,
   "id": "6093ba55",
   "metadata": {},
   "outputs": [
    {
     "data": {
      "text/plain": [
       "0    65.79\n",
       "1    34.21\n",
       "Name: booking_status, dtype: float64"
      ]
     },
     "execution_count": 55,
     "metadata": {},
     "output_type": "execute_result"
    }
   ],
   "source": [
    "round(((df['booking_status'].value_counts())/len(df))*100,2)"
   ]
  },
  {
   "cell_type": "markdown",
   "id": "9c64809b",
   "metadata": {},
   "source": [
    "# we can see data is imbalanced hence lets try to balance it to overcome overfitting situations"
   ]
  },
  {
   "cell_type": "markdown",
   "id": "963e49f5",
   "metadata": {},
   "source": [
    "# Lets use smote to balance data"
   ]
  },
  {
   "cell_type": "code",
   "execution_count": 56,
   "id": "058c38f9",
   "metadata": {},
   "outputs": [],
   "source": [
    "from imblearn.over_sampling import SMOTE\n",
    "# Separate input features and target\n",
    "x = df.drop('booking_status',axis=1)\n",
    "y = df['booking_status']\n",
    "# setting up testing and training sets\n",
    "\n",
    "oversample = SMOTE()\n",
    "x, y = oversample.fit_resample(x, y)"
   ]
  },
  {
   "cell_type": "code",
   "execution_count": 57,
   "id": "4980cce3",
   "metadata": {},
   "outputs": [
    {
     "data": {
      "text/plain": [
       "(41826, 12)"
      ]
     },
     "execution_count": 57,
     "metadata": {},
     "output_type": "execute_result"
    }
   ],
   "source": [
    "x.shape"
   ]
  },
  {
   "cell_type": "code",
   "execution_count": 58,
   "id": "7aebbc16",
   "metadata": {},
   "outputs": [
    {
     "data": {
      "text/plain": [
       "(41826,)"
      ]
     },
     "execution_count": 58,
     "metadata": {},
     "output_type": "execute_result"
    }
   ],
   "source": [
    "y.shape"
   ]
  },
  {
   "cell_type": "code",
   "execution_count": 59,
   "id": "f89cf8fb",
   "metadata": {},
   "outputs": [
    {
     "data": {
      "text/plain": [
       "0    20913\n",
       "1    20913\n",
       "Name: booking_status, dtype: int64"
      ]
     },
     "execution_count": 59,
     "metadata": {},
     "output_type": "execute_result"
    }
   ],
   "source": [
    "y = pd.DataFrame(y, columns = ['booking_status'])\n",
    "y['booking_status'].value_counts()"
   ]
  },
  {
   "cell_type": "code",
   "execution_count": 60,
   "id": "457dd664",
   "metadata": {},
   "outputs": [
    {
     "data": {
      "text/html": [
       "<div>\n",
       "<style scoped>\n",
       "    .dataframe tbody tr th:only-of-type {\n",
       "        vertical-align: middle;\n",
       "    }\n",
       "\n",
       "    .dataframe tbody tr th {\n",
       "        vertical-align: top;\n",
       "    }\n",
       "\n",
       "    .dataframe thead th {\n",
       "        text-align: right;\n",
       "    }\n",
       "</style>\n",
       "<table border=\"1\" class=\"dataframe\">\n",
       "  <thead>\n",
       "    <tr style=\"text-align: right;\">\n",
       "      <th></th>\n",
       "      <th>no_of_adults</th>\n",
       "      <th>no_of_children</th>\n",
       "      <th>no_of_weekend_nights</th>\n",
       "      <th>no_of_week_nights</th>\n",
       "      <th>type_of_meal_plan</th>\n",
       "      <th>room_type_reserved</th>\n",
       "      <th>lead_time</th>\n",
       "      <th>arrival_month</th>\n",
       "      <th>arrival_date</th>\n",
       "      <th>market_segment_type</th>\n",
       "      <th>avg_price_per_room</th>\n",
       "      <th>no_of_special_requests</th>\n",
       "      <th>booking_status</th>\n",
       "    </tr>\n",
       "  </thead>\n",
       "  <tbody>\n",
       "    <tr>\n",
       "      <th>0</th>\n",
       "      <td>2.0</td>\n",
       "      <td>0.0</td>\n",
       "      <td>1.0</td>\n",
       "      <td>2</td>\n",
       "      <td>1</td>\n",
       "      <td>1</td>\n",
       "      <td>224</td>\n",
       "      <td>10</td>\n",
       "      <td>2</td>\n",
       "      <td>1</td>\n",
       "      <td>65.00</td>\n",
       "      <td>0</td>\n",
       "      <td>0</td>\n",
       "    </tr>\n",
       "    <tr>\n",
       "      <th>1</th>\n",
       "      <td>2.0</td>\n",
       "      <td>0.0</td>\n",
       "      <td>2.0</td>\n",
       "      <td>3</td>\n",
       "      <td>0</td>\n",
       "      <td>1</td>\n",
       "      <td>5</td>\n",
       "      <td>11</td>\n",
       "      <td>6</td>\n",
       "      <td>0</td>\n",
       "      <td>106.68</td>\n",
       "      <td>1</td>\n",
       "      <td>0</td>\n",
       "    </tr>\n",
       "  </tbody>\n",
       "</table>\n",
       "</div>"
      ],
      "text/plain": [
       "   no_of_adults  no_of_children  no_of_weekend_nights  no_of_week_nights  \\\n",
       "0           2.0             0.0                   1.0                  2   \n",
       "1           2.0             0.0                   2.0                  3   \n",
       "\n",
       "   type_of_meal_plan  room_type_reserved  lead_time  arrival_month  \\\n",
       "0                  1                   1        224             10   \n",
       "1                  0                   1          5             11   \n",
       "\n",
       "   arrival_date  market_segment_type  avg_price_per_room  \\\n",
       "0             2                    1               65.00   \n",
       "1             6                    0              106.68   \n",
       "\n",
       "   no_of_special_requests  booking_status  \n",
       "0                       0               0  \n",
       "1                       1               0  "
      ]
     },
     "execution_count": 60,
     "metadata": {},
     "output_type": "execute_result"
    }
   ],
   "source": [
    "df=pd.merge(x,y, left_index=True, right_index=True)\n",
    "df.head(2)"
   ]
  },
  {
   "cell_type": "code",
   "execution_count": 61,
   "id": "7f0188fb",
   "metadata": {},
   "outputs": [
    {
     "data": {
      "text/plain": [
       "<AxesSubplot:xlabel='booking_status', ylabel='count'>"
      ]
     },
     "execution_count": 61,
     "metadata": {},
     "output_type": "execute_result"
    },
    {
     "data": {
      "image/png": "[encoded data removed]",
      "text/plain": [
       "<Figure size 1440x360 with 1 Axes>"
      ]
     },
     "metadata": {},
     "output_type": "display_data"
    }
   ],
   "source": [
    "sns.set_style('whitegrid')\n",
    "sns.countplot(x='booking_status',data=df)"
   ]
  },
  {
   "cell_type": "markdown",
   "id": "d47e1157",
   "metadata": {},
   "source": [
    "# now we have balanced the data for better analysis of the dataset"
   ]
  },
  {
   "cell_type": "code",
   "execution_count": null,
   "id": "c29d08bd",
   "metadata": {},
   "outputs": [],
   "source": []
  },
  {
   "cell_type": "markdown",
   "id": "c2053a04",
   "metadata": {},
   "source": [
    "# 6-Lets check thd data statistics"
   ]
  },
  {
   "cell_type": "code",
   "execution_count": 62,
   "id": "1cb41368",
   "metadata": {},
   "outputs": [
    {
     "data": {
      "text/html": [
       "<div>\n",
       "<style scoped>\n",
       "    .dataframe tbody tr th:only-of-type {\n",
       "        vertical-align: middle;\n",
       "    }\n",
       "\n",
       "    .dataframe tbody tr th {\n",
       "        vertical-align: top;\n",
       "    }\n",
       "\n",
       "    .dataframe thead th {\n",
       "        text-align: right;\n",
       "    }\n",
       "</style>\n",
       "<table border=\"1\" class=\"dataframe\">\n",
       "  <thead>\n",
       "    <tr style=\"text-align: right;\">\n",
       "      <th></th>\n",
       "      <th>count</th>\n",
       "      <th>mean</th>\n",
       "      <th>std</th>\n",
       "      <th>min</th>\n",
       "      <th>25%</th>\n",
       "      <th>50%</th>\n",
       "      <th>75%</th>\n",
       "      <th>max</th>\n",
       "    </tr>\n",
       "  </thead>\n",
       "  <tbody>\n",
       "    <tr>\n",
       "      <th>no_of_adults</th>\n",
       "      <td>41826.0</td>\n",
       "      <td>1.900099</td>\n",
       "      <td>0.472881</td>\n",
       "      <td>1.0</td>\n",
       "      <td>2.0</td>\n",
       "      <td>2.0</td>\n",
       "      <td>2.000000</td>\n",
       "      <td>3.0</td>\n",
       "    </tr>\n",
       "    <tr>\n",
       "      <th>no_of_children</th>\n",
       "      <td>41826.0</td>\n",
       "      <td>0.048447</td>\n",
       "      <td>0.213954</td>\n",
       "      <td>0.0</td>\n",
       "      <td>0.0</td>\n",
       "      <td>0.0</td>\n",
       "      <td>0.000000</td>\n",
       "      <td>2.0</td>\n",
       "    </tr>\n",
       "    <tr>\n",
       "      <th>no_of_weekend_nights</th>\n",
       "      <td>41826.0</td>\n",
       "      <td>0.836606</td>\n",
       "      <td>0.836953</td>\n",
       "      <td>0.0</td>\n",
       "      <td>0.0</td>\n",
       "      <td>1.0</td>\n",
       "      <td>1.844699</td>\n",
       "      <td>4.0</td>\n",
       "    </tr>\n",
       "    <tr>\n",
       "      <th>no_of_week_nights</th>\n",
       "      <td>41826.0</td>\n",
       "      <td>2.199087</td>\n",
       "      <td>1.316566</td>\n",
       "      <td>0.0</td>\n",
       "      <td>1.0</td>\n",
       "      <td>2.0</td>\n",
       "      <td>3.000000</td>\n",
       "      <td>15.0</td>\n",
       "    </tr>\n",
       "    <tr>\n",
       "      <th>type_of_meal_plan</th>\n",
       "      <td>41826.0</td>\n",
       "      <td>0.712093</td>\n",
       "      <td>0.452793</td>\n",
       "      <td>0.0</td>\n",
       "      <td>0.0</td>\n",
       "      <td>1.0</td>\n",
       "      <td>1.000000</td>\n",
       "      <td>1.0</td>\n",
       "    </tr>\n",
       "    <tr>\n",
       "      <th>room_type_reserved</th>\n",
       "      <td>41826.0</td>\n",
       "      <td>0.799861</td>\n",
       "      <td>0.400109</td>\n",
       "      <td>0.0</td>\n",
       "      <td>1.0</td>\n",
       "      <td>1.0</td>\n",
       "      <td>1.000000</td>\n",
       "      <td>1.0</td>\n",
       "    </tr>\n",
       "    <tr>\n",
       "      <th>lead_time</th>\n",
       "      <td>41826.0</td>\n",
       "      <td>103.765959</td>\n",
       "      <td>92.960370</td>\n",
       "      <td>0.0</td>\n",
       "      <td>28.0</td>\n",
       "      <td>76.0</td>\n",
       "      <td>161.000000</td>\n",
       "      <td>443.0</td>\n",
       "    </tr>\n",
       "    <tr>\n",
       "      <th>arrival_month</th>\n",
       "      <td>41826.0</td>\n",
       "      <td>7.386841</td>\n",
       "      <td>2.923168</td>\n",
       "      <td>1.0</td>\n",
       "      <td>5.0</td>\n",
       "      <td>8.0</td>\n",
       "      <td>10.000000</td>\n",
       "      <td>12.0</td>\n",
       "    </tr>\n",
       "    <tr>\n",
       "      <th>arrival_date</th>\n",
       "      <td>41826.0</td>\n",
       "      <td>15.553818</td>\n",
       "      <td>8.726374</td>\n",
       "      <td>1.0</td>\n",
       "      <td>8.0</td>\n",
       "      <td>16.0</td>\n",
       "      <td>23.000000</td>\n",
       "      <td>31.0</td>\n",
       "    </tr>\n",
       "    <tr>\n",
       "      <th>market_segment_type</th>\n",
       "      <td>41826.0</td>\n",
       "      <td>0.311170</td>\n",
       "      <td>0.462978</td>\n",
       "      <td>0.0</td>\n",
       "      <td>0.0</td>\n",
       "      <td>0.0</td>\n",
       "      <td>1.000000</td>\n",
       "      <td>1.0</td>\n",
       "    </tr>\n",
       "    <tr>\n",
       "      <th>avg_price_per_room</th>\n",
       "      <td>41826.0</td>\n",
       "      <td>104.399350</td>\n",
       "      <td>29.167588</td>\n",
       "      <td>0.0</td>\n",
       "      <td>85.0</td>\n",
       "      <td>101.5</td>\n",
       "      <td>120.000000</td>\n",
       "      <td>540.0</td>\n",
       "    </tr>\n",
       "    <tr>\n",
       "      <th>no_of_special_requests</th>\n",
       "      <td>41826.0</td>\n",
       "      <td>0.530770</td>\n",
       "      <td>0.741703</td>\n",
       "      <td>0.0</td>\n",
       "      <td>0.0</td>\n",
       "      <td>0.0</td>\n",
       "      <td>1.000000</td>\n",
       "      <td>5.0</td>\n",
       "    </tr>\n",
       "    <tr>\n",
       "      <th>booking_status</th>\n",
       "      <td>41826.0</td>\n",
       "      <td>0.500000</td>\n",
       "      <td>0.500006</td>\n",
       "      <td>0.0</td>\n",
       "      <td>0.0</td>\n",
       "      <td>0.5</td>\n",
       "      <td>1.000000</td>\n",
       "      <td>1.0</td>\n",
       "    </tr>\n",
       "  </tbody>\n",
       "</table>\n",
       "</div>"
      ],
      "text/plain": [
       "                          count        mean        std  min   25%    50%  \\\n",
       "no_of_adults            41826.0    1.900099   0.472881  1.0   2.0    2.0   \n",
       "no_of_children          41826.0    0.048447   0.213954  0.0   0.0    0.0   \n",
       "no_of_weekend_nights    41826.0    0.836606   0.836953  0.0   0.0    1.0   \n",
       "no_of_week_nights       41826.0    2.199087   1.316566  0.0   1.0    2.0   \n",
       "type_of_meal_plan       41826.0    0.712093   0.452793  0.0   0.0    1.0   \n",
       "room_type_reserved      41826.0    0.799861   0.400109  0.0   1.0    1.0   \n",
       "lead_time               41826.0  103.765959  92.960370  0.0  28.0   76.0   \n",
       "arrival_month           41826.0    7.386841   2.923168  1.0   5.0    8.0   \n",
       "arrival_date            41826.0   15.553818   8.726374  1.0   8.0   16.0   \n",
       "market_segment_type     41826.0    0.311170   0.462978  0.0   0.0    0.0   \n",
       "avg_price_per_room      41826.0  104.399350  29.167588  0.0  85.0  101.5   \n",
       "no_of_special_requests  41826.0    0.530770   0.741703  0.0   0.0    0.0   \n",
       "booking_status          41826.0    0.500000   0.500006  0.0   0.0    0.5   \n",
       "\n",
       "                               75%    max  \n",
       "no_of_adults              2.000000    3.0  \n",
       "no_of_children            0.000000    2.0  \n",
       "no_of_weekend_nights      1.844699    4.0  \n",
       "no_of_week_nights         3.000000   15.0  \n",
       "type_of_meal_plan         1.000000    1.0  \n",
       "room_type_reserved        1.000000    1.0  \n",
       "lead_time               161.000000  443.0  \n",
       "arrival_month            10.000000   12.0  \n",
       "arrival_date             23.000000   31.0  \n",
       "market_segment_type       1.000000    1.0  \n",
       "avg_price_per_room      120.000000  540.0  \n",
       "no_of_special_requests    1.000000    5.0  \n",
       "booking_status            1.000000    1.0  "
      ]
     },
     "execution_count": 62,
     "metadata": {},
     "output_type": "execute_result"
    }
   ],
   "source": [
    "df.describe(include='all').transpose()"
   ]
  },
  {
   "cell_type": "code",
   "execution_count": 63,
   "id": "8cd8ce81",
   "metadata": {},
   "outputs": [],
   "source": [
    "#comparing mean and median we get to know there are outliers in the 'lead_time' and 'avg_price_per_room' columns lets trye to remove the outliers"
   ]
  },
  {
   "cell_type": "code",
   "execution_count": null,
   "id": "0b1bf853",
   "metadata": {},
   "outputs": [],
   "source": []
  },
  {
   "cell_type": "code",
   "execution_count": 64,
   "id": "33017b3d",
   "metadata": {},
   "outputs": [
    {
     "data": {
      "image/png": "[encoded data removed]",
      "text/plain": [
       "<Figure size 864x576 with 4 Axes>"
      ]
     },
     "metadata": {},
     "output_type": "display_data"
    }
   ],
   "source": [
    "plt.figure(figsize=(12,8))\n",
    "pc_cols=['avg_price_per_room','lead_time']\n",
    "p=0\n",
    "for j in range(len(pc_cols)):\n",
    "    var=pc_cols[j]\n",
    "    p=p+1\n",
    "    plt.subplot(2, 2, p)\n",
    "    plt.title(var+' With Outliers')\n",
    "    plt.boxplot(df[var])\n",
    "    Q1 = df[var].quantile(0.05)\n",
    "    Q3 = df[var].quantile(0.90)\n",
    "    IQR = Q3 - Q1\n",
    "    df = df[(df[var] >= Q1 - 1.5*IQR) & (df[var] <= Q3 + 1.5*IQR)]\n",
    "    p=p+1\n",
    "    plt.subplot(2, 2, p)\n",
    "    plt.title(var+' After Outlier Treatment')\n",
    "    plt.boxplot(df[var])"
   ]
  },
  {
   "cell_type": "markdown",
   "id": "c8749d0d",
   "metadata": {},
   "source": [
    "# Lets  check the normal distribution of lead_time"
   ]
  },
  {
   "cell_type": "code",
   "execution_count": 65,
   "id": "2f5a2be7",
   "metadata": {},
   "outputs": [
    {
     "data": {
      "text/plain": [
       "<AxesSubplot:xlabel='lead_time', ylabel='Density'>"
      ]
     },
     "execution_count": 65,
     "metadata": {},
     "output_type": "execute_result"
    },
    {
     "data": {
      "image/png": "[encoded data removed]",
      "text/plain": [
       "<Figure size 1440x360 with 1 Axes>"
      ]
     },
     "metadata": {},
     "output_type": "display_data"
    }
   ],
   "source": [
    "sns.distplot(df['lead_time'], label = 'lead_time')"
   ]
  },
  {
   "cell_type": "code",
   "execution_count": 66,
   "id": "27e5935d",
   "metadata": {},
   "outputs": [
    {
     "data": {
      "text/plain": [
       "0.3274153194686509"
      ]
     },
     "execution_count": 66,
     "metadata": {},
     "output_type": "execute_result"
    }
   ],
   "source": [
    "df['lead_time'].kurtosis()"
   ]
  },
  {
   "cell_type": "code",
   "execution_count": 67,
   "id": "56de44ad",
   "metadata": {},
   "outputs": [
    {
     "data": {
      "text/plain": [
       "1.0102480516458054"
      ]
     },
     "execution_count": 67,
     "metadata": {},
     "output_type": "execute_result"
    }
   ],
   "source": [
    "df['lead_time'].skew()"
   ]
  },
  {
   "cell_type": "markdown",
   "id": "683de384",
   "metadata": {},
   "source": [
    "lead_time is highly positively skewed that is most of the lead_time is below average we need to correct this"
   ]
  },
  {
   "cell_type": "code",
   "execution_count": 68,
   "id": "a39310d1",
   "metadata": {},
   "outputs": [],
   "source": [
    "df['lead_time'] =np.sqrt(df['lead_time'])"
   ]
  },
  {
   "cell_type": "code",
   "execution_count": 69,
   "id": "e1c1531c",
   "metadata": {},
   "outputs": [
    {
     "data": {
      "text/plain": [
       "<AxesSubplot:xlabel='lead_time', ylabel='Density'>"
      ]
     },
     "execution_count": 69,
     "metadata": {},
     "output_type": "execute_result"
    },
    {
     "data": {
      "image/png": "[encoded data removed]",
      "text/plain": [
       "<Figure size 1440x360 with 1 Axes>"
      ]
     },
     "metadata": {},
     "output_type": "display_data"
    }
   ],
   "source": [
    "sns.distplot(df['lead_time'], label = 'lead_time')"
   ]
  },
  {
   "cell_type": "markdown",
   "id": "303ce953",
   "metadata": {},
   "source": [
    "# we have converted the column lead_time to nearly as a normal distribution curve"
   ]
  },
  {
   "cell_type": "markdown",
   "id": "185ad4d2",
   "metadata": {},
   "source": [
    "# Lets  check the normal distribution of avg_price_per_room"
   ]
  },
  {
   "cell_type": "code",
   "execution_count": 70,
   "id": "9c8260f5",
   "metadata": {},
   "outputs": [
    {
     "data": {
      "text/plain": [
       "<AxesSubplot:xlabel='avg_price_per_room', ylabel='Density'>"
      ]
     },
     "execution_count": 70,
     "metadata": {},
     "output_type": "execute_result"
    },
    {
     "data": {
      "image/png": "[encoded data removed]",
      "text/plain": [
       "<Figure size 1440x360 with 1 Axes>"
      ]
     },
     "metadata": {},
     "output_type": "display_data"
    }
   ],
   "source": [
    "sns.distplot(df['avg_price_per_room'], label = 'avg_price_per_room')"
   ]
  },
  {
   "cell_type": "code",
   "execution_count": 71,
   "id": "82ec1f55",
   "metadata": {},
   "outputs": [
    {
     "data": {
      "text/plain": [
       "1.166378024146705"
      ]
     },
     "execution_count": 71,
     "metadata": {},
     "output_type": "execute_result"
    }
   ],
   "source": [
    "df['avg_price_per_room'].kurt()"
   ]
  },
  {
   "cell_type": "code",
   "execution_count": 72,
   "id": "52543f74",
   "metadata": {},
   "outputs": [
    {
     "data": {
      "text/plain": [
       "0.40059211323805505"
      ]
     },
     "execution_count": 72,
     "metadata": {},
     "output_type": "execute_result"
    }
   ],
   "source": [
    "df['avg_price_per_room'].skew()"
   ]
  },
  {
   "cell_type": "code",
   "execution_count": 73,
   "id": "5ddc8be9",
   "metadata": {},
   "outputs": [],
   "source": [
    "df['avg_price_per_room']=np.sqrt(df['avg_price_per_room'])"
   ]
  },
  {
   "cell_type": "code",
   "execution_count": 74,
   "id": "e4c5e0a1",
   "metadata": {},
   "outputs": [
    {
     "data": {
      "text/plain": [
       "<AxesSubplot:xlabel='avg_price_per_room', ylabel='Density'>"
      ]
     },
     "execution_count": 74,
     "metadata": {},
     "output_type": "execute_result"
    },
    {
     "data": {
      "image/png": "[encoded data removed]",
      "text/plain": [
       "<Figure size 1440x360 with 1 Axes>"
      ]
     },
     "metadata": {},
     "output_type": "display_data"
    }
   ],
   "source": [
    "sns.distplot(df['avg_price_per_room'], label = 'avg_price_per_room')"
   ]
  },
  {
   "cell_type": "code",
   "execution_count": 75,
   "id": "3dce55c5",
   "metadata": {},
   "outputs": [
    {
     "data": {
      "text/plain": [
       "455"
      ]
     },
     "execution_count": 75,
     "metadata": {},
     "output_type": "execute_result"
    }
   ],
   "source": [
    "len(df[df['avg_price_per_room']<7])"
   ]
  },
  {
   "cell_type": "code",
   "execution_count": 76,
   "id": "a970f933",
   "metadata": {},
   "outputs": [],
   "source": [
    "df=df[df['avg_price_per_room']>7]"
   ]
  },
  {
   "cell_type": "code",
   "execution_count": 77,
   "id": "d3bec3f1",
   "metadata": {},
   "outputs": [
    {
     "data": {
      "text/plain": [
       "<AxesSubplot:xlabel='avg_price_per_room', ylabel='Density'>"
      ]
     },
     "execution_count": 77,
     "metadata": {},
     "output_type": "execute_result"
    },
    {
     "data": {
      "image/png": "[encoded data removed]",
      "text/plain": [
       "<Figure size 1440x360 with 1 Axes>"
      ]
     },
     "metadata": {},
     "output_type": "display_data"
    }
   ],
   "source": [
    "sns.distplot(df['avg_price_per_room'], label = 'avg_price_per_room')"
   ]
  },
  {
   "cell_type": "markdown",
   "id": "a6f7e66f",
   "metadata": {},
   "source": [
    "# Now the distribution of avg_price_per_room looks fine"
   ]
  },
  {
   "cell_type": "markdown",
   "id": "41b42008",
   "metadata": {},
   "source": [
    "# 7-Lets check the correlation with the target column and independent features also among the independent features using heatmap"
   ]
  },
  {
   "cell_type": "code",
   "execution_count": 78,
   "id": "e2ea7c95",
   "metadata": {},
   "outputs": [
    {
     "data": {
      "text/plain": [
       "no_of_adults              0.055819\n",
       "no_of_children           -0.009009\n",
       "no_of_weekend_nights      0.037515\n",
       "no_of_week_nights         0.011302\n",
       "type_of_meal_plan        -0.095686\n",
       "room_type_reserved       -0.042915\n",
       "lead_time                 0.436472\n",
       "arrival_month            -0.028619\n",
       "arrival_date              0.005585\n",
       "market_segment_type      -0.075078\n",
       "avg_price_per_room        0.109327\n",
       "no_of_special_requests   -0.348278\n",
       "booking_status            1.000000\n",
       "Name: booking_status, dtype: float64"
      ]
     },
     "execution_count": 78,
     "metadata": {},
     "output_type": "execute_result"
    }
   ],
   "source": [
    "correlation = df.corr()\n",
    "correlation['booking_status']"
   ]
  },
  {
   "cell_type": "code",
   "execution_count": 79,
   "id": "de8ff876",
   "metadata": {},
   "outputs": [
    {
     "data": {
      "text/plain": [
       "<AxesSubplot:>"
      ]
     },
     "execution_count": 79,
     "metadata": {},
     "output_type": "execute_result"
    },
    {
     "data": {
      "image/png": "[encoded data removed]",
      "text/plain": [
       "<Figure size 1800x1080 with 2 Axes>"
      ]
     },
     "metadata": {},
     "output_type": "display_data"
    }
   ],
   "source": [
    "plt.figure(figsize=(25,15))\n",
    "sns.heatmap(correlation,yticklabels=True,cbar=True,annot=True,cmap='coolwarm')"
   ]
  },
  {
   "cell_type": "markdown",
   "id": "4cec9852",
   "metadata": {},
   "source": [
    "as correlation among independent features looks fine we go ahead and build the model"
   ]
  },
  {
   "cell_type": "code",
   "execution_count": 80,
   "id": "986cd360",
   "metadata": {},
   "outputs": [
    {
     "data": {
      "text/plain": [
       "(41356, 13)"
      ]
     },
     "execution_count": 80,
     "metadata": {},
     "output_type": "execute_result"
    }
   ],
   "source": [
    "df.shape"
   ]
  },
  {
   "cell_type": "code",
   "execution_count": null,
   "id": "10e3a605",
   "metadata": {},
   "outputs": [],
   "source": []
  },
  {
   "cell_type": "markdown",
   "id": "dcd81a04",
   "metadata": {},
   "source": [
    "# Modelling"
   ]
  },
  {
   "cell_type": "code",
   "execution_count": 81,
   "id": "3bf2f0e3",
   "metadata": {},
   "outputs": [],
   "source": [
    "from sklearn.model_selection import  train_test_split\n",
    "from sklearn.preprocessing import StandardScaler\n",
    "from sklearn.linear_model import LogisticRegression\n",
    "from sklearn.pipeline import make_pipeline\n",
    "from sklearn.metrics import classification_report, confusion_matrix\n",
    "from sklearn.metrics import accuracy_score, precision_score, recall_score, f1_score\n",
    "from sklearn.neighbors import KNeighborsClassifier\n",
    "from sklearn.svm import SVC\n",
    "from sklearn.tree import DecisionTreeClassifier\n",
    "from sklearn.ensemble import RandomForestClassifier\n",
    "from sklearn.ensemble import GradientBoostingClassifier\n",
    "from sklearn.model_selection import KFold"
   ]
  },
  {
   "cell_type": "markdown",
   "id": "2179958e",
   "metadata": {},
   "source": [
    "# test_train_split"
   ]
  },
  {
   "cell_type": "code",
   "execution_count": 82,
   "id": "edab0c9c",
   "metadata": {},
   "outputs": [],
   "source": [
    "x_train, x_test, y_train, y_test = train_test_split(df.drop(['booking_status'],axis=1), \n",
    "                                                    df['booking_status'], test_size=0.2, \n",
    "                                                    random_state=101)"
   ]
  },
  {
   "cell_type": "code",
   "execution_count": 83,
   "id": "3f1d1218",
   "metadata": {},
   "outputs": [
    {
     "name": "stdout",
     "output_type": "stream",
     "text": [
      "(33084, 12)\n",
      "(8272, 12)\n"
     ]
    }
   ],
   "source": [
    "print(x_train.shape)\n",
    "print(x_test.shape)"
   ]
  },
  {
   "cell_type": "code",
   "execution_count": 84,
   "id": "582bd2db",
   "metadata": {},
   "outputs": [
    {
     "data": {
      "text/html": [
       "<div>\n",
       "<style scoped>\n",
       "    .dataframe tbody tr th:only-of-type {\n",
       "        vertical-align: middle;\n",
       "    }\n",
       "\n",
       "    .dataframe tbody tr th {\n",
       "        vertical-align: top;\n",
       "    }\n",
       "\n",
       "    .dataframe thead th {\n",
       "        text-align: right;\n",
       "    }\n",
       "</style>\n",
       "<table border=\"1\" class=\"dataframe\">\n",
       "  <thead>\n",
       "    <tr style=\"text-align: right;\">\n",
       "      <th></th>\n",
       "      <th>no_of_adults</th>\n",
       "      <th>no_of_children</th>\n",
       "      <th>no_of_weekend_nights</th>\n",
       "      <th>no_of_week_nights</th>\n",
       "      <th>type_of_meal_plan</th>\n",
       "      <th>room_type_reserved</th>\n",
       "      <th>lead_time</th>\n",
       "      <th>arrival_month</th>\n",
       "      <th>arrival_date</th>\n",
       "      <th>market_segment_type</th>\n",
       "      <th>avg_price_per_room</th>\n",
       "      <th>no_of_special_requests</th>\n",
       "    </tr>\n",
       "  </thead>\n",
       "  <tbody>\n",
       "    <tr>\n",
       "      <th>30101</th>\n",
       "      <td>2.0</td>\n",
       "      <td>0.0</td>\n",
       "      <td>0.0</td>\n",
       "      <td>3</td>\n",
       "      <td>1</td>\n",
       "      <td>1</td>\n",
       "      <td>6.633250</td>\n",
       "      <td>11</td>\n",
       "      <td>22</td>\n",
       "      <td>0</td>\n",
       "      <td>9.852411</td>\n",
       "      <td>1</td>\n",
       "    </tr>\n",
       "    <tr>\n",
       "      <th>31422</th>\n",
       "      <td>2.0</td>\n",
       "      <td>0.0</td>\n",
       "      <td>2.0</td>\n",
       "      <td>3</td>\n",
       "      <td>1</td>\n",
       "      <td>1</td>\n",
       "      <td>4.582576</td>\n",
       "      <td>9</td>\n",
       "      <td>3</td>\n",
       "      <td>0</td>\n",
       "      <td>10.246951</td>\n",
       "      <td>0</td>\n",
       "    </tr>\n",
       "  </tbody>\n",
       "</table>\n",
       "</div>"
      ],
      "text/plain": [
       "       no_of_adults  no_of_children  no_of_weekend_nights  no_of_week_nights  \\\n",
       "30101           2.0             0.0                   0.0                  3   \n",
       "31422           2.0             0.0                   2.0                  3   \n",
       "\n",
       "       type_of_meal_plan  room_type_reserved  lead_time  arrival_month  \\\n",
       "30101                  1                   1   6.633250             11   \n",
       "31422                  1                   1   4.582576              9   \n",
       "\n",
       "       arrival_date  market_segment_type  avg_price_per_room  \\\n",
       "30101            22                    0            9.852411   \n",
       "31422             3                    0           10.246951   \n",
       "\n",
       "       no_of_special_requests  \n",
       "30101                       1  \n",
       "31422                       0  "
      ]
     },
     "execution_count": 84,
     "metadata": {},
     "output_type": "execute_result"
    }
   ],
   "source": [
    "x_test.head(2)"
   ]
  },
  {
   "cell_type": "code",
   "execution_count": 85,
   "id": "95484c55",
   "metadata": {},
   "outputs": [
    {
     "data": {
      "text/plain": [
       "30101    1\n",
       "31422    0\n",
       "Name: booking_status, dtype: int32"
      ]
     },
     "execution_count": 85,
     "metadata": {},
     "output_type": "execute_result"
    }
   ],
   "source": [
    "y_test.head(2)"
   ]
  },
  {
   "cell_type": "code",
   "execution_count": 86,
   "id": "425fc1a7",
   "metadata": {},
   "outputs": [],
   "source": [
    "scaled = StandardScaler()"
   ]
  },
  {
   "cell_type": "markdown",
   "id": "549684f9",
   "metadata": {},
   "source": [
    "# Modelling with Logistic Regression"
   ]
  },
  {
   "cell_type": "code",
   "execution_count": 87,
   "id": "9ac9f86a",
   "metadata": {},
   "outputs": [],
   "source": [
    "logmodel = LogisticRegression()"
   ]
  },
  {
   "cell_type": "markdown",
   "id": "b60b0ff9",
   "metadata": {},
   "source": [
    "Lets create the Pipeline"
   ]
  },
  {
   "cell_type": "code",
   "execution_count": 88,
   "id": "0dcef4cf",
   "metadata": {},
   "outputs": [],
   "source": [
    "pipe = make_pipeline(scaled,logmodel)"
   ]
  },
  {
   "cell_type": "code",
   "execution_count": 89,
   "id": "454f8a65",
   "metadata": {},
   "outputs": [
    {
     "data": {
      "text/plain": [
       "Pipeline(steps=[('standardscaler', StandardScaler()),\n",
       "                ('logisticregression', LogisticRegression())])"
      ]
     },
     "execution_count": 89,
     "metadata": {},
     "output_type": "execute_result"
    }
   ],
   "source": [
    "pipe.fit(x_train,y_train)"
   ]
  },
  {
   "cell_type": "code",
   "execution_count": 90,
   "id": "2a1220e3",
   "metadata": {},
   "outputs": [],
   "source": [
    "y_predicted = pipe.predict(x_test)"
   ]
  },
  {
   "cell_type": "code",
   "execution_count": 91,
   "id": "d07fc1f4",
   "metadata": {},
   "outputs": [
    {
     "data": {
      "text/plain": [
       "array([0, 0, 0, ..., 1, 1, 1])"
      ]
     },
     "execution_count": 91,
     "metadata": {},
     "output_type": "execute_result"
    }
   ],
   "source": [
    "y_predicted"
   ]
  },
  {
   "cell_type": "code",
   "execution_count": 92,
   "id": "daf5ed52",
   "metadata": {},
   "outputs": [
    {
     "name": "stdout",
     "output_type": "stream",
     "text": [
      "              precision    recall  f1-score   support\n",
      "\n",
      "           0       0.79      0.77      0.78      4077\n",
      "           1       0.78      0.80      0.79      4195\n",
      "\n",
      "    accuracy                           0.78      8272\n",
      "   macro avg       0.78      0.78      0.78      8272\n",
      "weighted avg       0.78      0.78      0.78      8272\n",
      "\n"
     ]
    }
   ],
   "source": [
    "print(classification_report(y_test,y_predicted))"
   ]
  },
  {
   "cell_type": "code",
   "execution_count": 93,
   "id": "68a5f6f9",
   "metadata": {},
   "outputs": [
    {
     "data": {
      "text/plain": [
       "array([[3143,  934],\n",
       "       [ 851, 3344]], dtype=int64)"
      ]
     },
     "execution_count": 93,
     "metadata": {},
     "output_type": "execute_result"
    }
   ],
   "source": [
    "from sklearn.metrics import confusion_matrix\n",
    "confusion_matrix(y_test,y_predicted)"
   ]
  },
  {
   "cell_type": "code",
   "execution_count": 94,
   "id": "bee699dc",
   "metadata": {},
   "outputs": [
    {
     "data": {
      "image/png": "[encoded data removed]",
      "text/plain": [
       "<Figure size 1440x360 with 2 Axes>"
      ]
     },
     "metadata": {},
     "output_type": "display_data"
    }
   ],
   "source": [
    "cnf_matrix = confusion_matrix(y_test,y_predicted)\n",
    "np.set_printoptions(precision=2)\n",
    "sns.heatmap(cnf_matrix, square=True, annot=True,fmt='d',  cbar=True,\n",
    "                        xticklabels=['0(Not_Cancelled)', '1(Cancelled)'],\n",
    "                        yticklabels=['0(Not_Cancelled)', '1(Cancelled)'])\n",
    "plt.ylabel('actual label')\n",
    "plt.xlabel('predicted label');"
   ]
  },
  {
   "cell_type": "code",
   "execution_count": 95,
   "id": "be83df6a",
   "metadata": {},
   "outputs": [
    {
     "data": {
      "text/plain": [
       "1    4195\n",
       "0    4077\n",
       "Name: booking_status, dtype: int64"
      ]
     },
     "execution_count": 95,
     "metadata": {},
     "output_type": "execute_result"
    }
   ],
   "source": [
    "y_test.value_counts()"
   ]
  },
  {
   "cell_type": "code",
   "execution_count": 96,
   "id": "d2d3d76f",
   "metadata": {},
   "outputs": [
    {
     "name": "stdout",
     "output_type": "stream",
     "text": [
      "[0 0 0 ... 1 1 1]\n",
      "[1 1 0 ... 1 0 1]\n"
     ]
    }
   ],
   "source": [
    "from sklearn.metrics import roc_curve, auc\n",
    "\n",
    "fpr_dt, tpr_dt, _ = roc_curve(y_test,y_predicted)\n",
    "roc_auc_dt = auc(fpr_dt, tpr_dt)\n",
    "\n",
    "y_predicted = pipe.predict(x_test)\n",
    "x_predicted=pipe.predict(x_train)\n",
    "print(y_predicted)\n",
    "print(x_predicted)"
   ]
  },
  {
   "cell_type": "code",
   "execution_count": 97,
   "id": "870103a5",
   "metadata": {},
   "outputs": [
    {
     "data": {
      "text/plain": [
       "<function matplotlib.pyplot.show(close=None, block=None)>"
      ]
     },
     "execution_count": 97,
     "metadata": {},
     "output_type": "execute_result"
    },
    {
     "data": {
      "image/png": "[encoded data removed]",
      "text/plain": [
       "<Figure size 1440x360 with 1 Axes>"
      ]
     },
     "metadata": {},
     "output_type": "display_data"
    }
   ],
   "source": [
    "plt.figure(1)\n",
    "lw = 2\n",
    "plt.plot(fpr_dt, tpr_dt, color='green',\n",
    "         lw=lw, label='Logistic Regression(AUC = %0.2f)' % roc_auc_dt)\n",
    "plt.plot([0, 1], [0, 1], color='navy', lw=lw, linestyle='--')\n",
    "\n",
    "plt.xlim([0.0, 1.0])\n",
    "plt.ylim([0.0, 1.05])\n",
    "plt.xlabel('False Positive Rate')\n",
    "plt.ylabel('True Positive Rate')\n",
    "plt.title('Area Under Curve')\n",
    "plt.legend(loc=\"lower right\")\n",
    "plt.show"
   ]
  },
  {
   "cell_type": "code",
   "execution_count": 98,
   "id": "d0b94a8e",
   "metadata": {},
   "outputs": [
    {
     "name": "stdout",
     "output_type": "stream",
     "text": [
      "accuracy socre of training data : 0.7915306492564381\n",
      "accuracy socre of testing data: 0.7842117988394585\n",
      "f1 score: 0.7893308155316888\n",
      "precision score: 0.7816736792893876\n",
      "recall score: 0.797139451728248\n"
     ]
    }
   ],
   "source": [
    "print('accuracy socre of training data :',accuracy_score(y_train, x_predicted))\n",
    "print('accuracy socre of testing data:',accuracy_score(y_test, y_predicted))\n",
    "print('f1 score:',f1_score(y_test, y_predicted))\n",
    "print('precision score:',precision_score(y_test, y_predicted))\n",
    "print('recall score:',recall_score(y_test, y_predicted))"
   ]
  },
  {
   "cell_type": "markdown",
   "id": "3e11e701",
   "metadata": {},
   "source": [
    "# model check with decision tree"
   ]
  },
  {
   "cell_type": "code",
   "execution_count": 99,
   "id": "34a89a8f",
   "metadata": {},
   "outputs": [
    {
     "name": "stdout",
     "output_type": "stream",
     "text": [
      "classification report:\n",
      "\t               precision    recall  f1-score   support\n",
      "\n",
      "           0       0.88      0.86      0.87      4185\n",
      "           1       0.86      0.89      0.87      4087\n",
      "\n",
      "    accuracy                           0.87      8272\n",
      "   macro avg       0.87      0.87      0.87      8272\n",
      "weighted avg       0.87      0.87      0.87      8272\n",
      "\n"
     ]
    }
   ],
   "source": [
    "from sklearn.ensemble import AdaBoostClassifier\n",
    "from sklearn.tree import DecisionTreeClassifier\n",
    "dt_classifier = AdaBoostClassifier(DecisionTreeClassifier(max_depth=2,max_features=4,min_samples_leaf=25),n_estimators=200)\n",
    "            \n",
    "\n",
    "\n",
    "dt_classifier.fit(x_train,y_train)\n",
    "pred_1 = dt_classifier.predict(x_train)\n",
    "pred_2 = dt_classifier.predict(x_test)\n",
    "\n",
    "print('classification report:\\n\\t',classification_report(pred_2,y_test))"
   ]
  },
  {
   "cell_type": "code",
   "execution_count": 100,
   "id": "2a61d65d",
   "metadata": {},
   "outputs": [
    {
     "data": {
      "text/plain": [
       "array([[3607,  470],\n",
       "       [ 578, 3617]], dtype=int64)"
      ]
     },
     "execution_count": 100,
     "metadata": {},
     "output_type": "execute_result"
    }
   ],
   "source": [
    "from sklearn.metrics import accuracy_score, confusion_matrix\n",
    "confusion_matrix(y_test,pred_2)"
   ]
  },
  {
   "cell_type": "code",
   "execution_count": 101,
   "id": "7ab688a7",
   "metadata": {},
   "outputs": [
    {
     "data": {
      "image/png": "[encoded data removed]",
      "text/plain": [
       "<Figure size 1440x360 with 2 Axes>"
      ]
     },
     "metadata": {},
     "output_type": "display_data"
    }
   ],
   "source": [
    "cnf_matrix = confusion_matrix(y_test,pred_2)\n",
    "np.set_printoptions(precision=2)\n",
    "sns.heatmap(cnf_matrix, square=True, annot=True,fmt='d',  cbar=True,\n",
    "                        xticklabels=['0(Not_Cancelled)', '1(Cancelled)'],\n",
    "                        yticklabels=['0(Not_Cancelled)', '1(Cancelled)'])\n",
    "plt.ylabel('actual label')\n",
    "plt.xlabel('predicted label');"
   ]
  },
  {
   "cell_type": "code",
   "execution_count": 102,
   "id": "e2908285",
   "metadata": {},
   "outputs": [
    {
     "data": {
      "image/png": "[encoded data removed]",
      "text/plain": [
       "<Figure size 1440x360 with 1 Axes>"
      ]
     },
     "metadata": {},
     "output_type": "display_data"
    }
   ],
   "source": [
    "from sklearn.metrics import PrecisionRecallDisplay\n",
    "\n",
    "display = PrecisionRecallDisplay.from_estimator(\n",
    "    dt_classifier, x_test, y_test, name=\"decisionAdaboost\"\n",
    ")\n",
    "_ = display.ax_.set_title(\"2-class Precision-Recall curve\")"
   ]
  },
  {
   "cell_type": "code",
   "execution_count": 103,
   "id": "98ddf1b0",
   "metadata": {},
   "outputs": [
    {
     "name": "stdout",
     "output_type": "stream",
     "text": [
      "accuracy socre of training data: 0.8851710796759763\n",
      "accuracy socre of testing data: 0.8733075435203095\n",
      "f1 score: 0.8734605167833857\n",
      "precision score: 0.8850012233912405\n",
      "recall score: 0.8622169249106079\n"
     ]
    }
   ],
   "source": [
    "print('accuracy socre of training data:',accuracy_score(y_train, pred_1))\n",
    "print('accuracy socre of testing data:',accuracy_score(y_test, pred_2))\n",
    "print('f1 score:',f1_score(y_test, pred_2))\n",
    "print('precision score:',precision_score(y_test, pred_2))\n",
    "print('recall score:',recall_score(y_test, pred_2))"
   ]
  },
  {
   "cell_type": "markdown",
   "id": "56f75807",
   "metadata": {},
   "source": [
    "# Modelling with Knn"
   ]
  },
  {
   "cell_type": "code",
   "execution_count": 104,
   "id": "6087ee33",
   "metadata": {},
   "outputs": [],
   "source": [
    "knn= KNeighborsClassifier(n_neighbors=15).fit(x_train,y_train)\n",
    "y_knn_test=knn.predict(x_test)\n",
    "y_knn_train=knn.predict(x_train)"
   ]
  },
  {
   "cell_type": "code",
   "execution_count": 105,
   "id": "b40b5f2a",
   "metadata": {},
   "outputs": [
    {
     "name": "stdout",
     "output_type": "stream",
     "text": [
      "accuracy socre of training data: 0.8657659291500424\n",
      "accuracy socre of testing data: 0.8371615087040619\n",
      "f1 score: 0.8425482174167153\n",
      "precision score: 0.826605504587156\n",
      "recall score: 0.8591179976162098\n"
     ]
    }
   ],
   "source": [
    "print('accuracy socre of training data:',accuracy_score(y_train,y_knn_train))\n",
    "print('accuracy socre of testing data:',accuracy_score(y_test,y_knn_test))\n",
    "print('f1 score:',f1_score(y_test, y_knn_test))\n",
    "print('precision score:',precision_score(y_test,y_knn_test))\n",
    "print('recall score:',recall_score(y_test,y_knn_test))"
   ]
  },
  {
   "cell_type": "markdown",
   "id": "87983046",
   "metadata": {},
   "source": [
    "# Modelling with Gradient Boost"
   ]
  },
  {
   "cell_type": "code",
   "execution_count": 106,
   "id": "88e72434",
   "metadata": {},
   "outputs": [],
   "source": [
    "gbm = GradientBoostingClassifier().fit(x_train,y_train)\n",
    "y_gbm_test=gbm.predict(x_test)\n",
    "y_gbm_train=gbm.predict(x_train)"
   ]
  },
  {
   "cell_type": "code",
   "execution_count": 107,
   "id": "17a6183a",
   "metadata": {},
   "outputs": [
    {
     "name": "stdout",
     "output_type": "stream",
     "text": [
      "accuracy socre of training data: 0.8626828678515295\n",
      "accuracy socre of testing data: 0.8557785299806576\n",
      "f1 score: 0.856868626274745\n",
      "precision score: 0.8625603864734299\n",
      "recall score: 0.8512514898688915\n"
     ]
    }
   ],
   "source": [
    "print('accuracy socre of training data:',accuracy_score(y_train,y_gbm_train))\n",
    "print('accuracy socre of testing data:',accuracy_score(y_test,y_gbm_test))\n",
    "print('f1 score:',f1_score(y_test, y_gbm_test))\n",
    "print('precision score:',precision_score(y_test,y_gbm_test))\n",
    "print('recall score:',recall_score(y_test,y_gbm_test))"
   ]
  },
  {
   "cell_type": "code",
   "execution_count": 108,
   "id": "a51f95b5",
   "metadata": {},
   "outputs": [
    {
     "data": {
      "text/plain": [
       "XGBClassifier(base_score=None, booster=None, callbacks=None,\n",
       "              colsample_bylevel=None, colsample_bynode=None,\n",
       "              colsample_bytree=None, early_stopping_rounds=None,\n",
       "              enable_categorical=False, eval_metric=None, feature_types=None,\n",
       "              gamma=None, gpu_id=None, grow_policy=None, importance_type=None,\n",
       "              interaction_constraints=None, learning_rate=0.01, max_bin=None,\n",
       "              max_cat_threshold=None, max_cat_to_onehot=None,\n",
       "              max_delta_step=None, max_depth=None, max_leaves=None,\n",
       "              min_child_weight=None, missing=nan, monotone_constraints=None,\n",
       "              n_estimators=100, n_jobs=None, num_parallel_tree=None,\n",
       "              predictor=None, random_state=1, ...)"
      ]
     },
     "execution_count": 108,
     "metadata": {},
     "output_type": "execute_result"
    }
   ],
   "source": [
    "import xgboost as xgb\n",
    "xg_model = xgb.XGBClassifier(random_state=1,\n",
    "                             learning_rate=0.01)\n",
    "xg_model.fit(x_train,y_train)"
   ]
  },
  {
   "cell_type": "code",
   "execution_count": 109,
   "id": "95469d71",
   "metadata": {},
   "outputs": [],
   "source": [
    "pred_train = xg_model.predict(x_train)\n",
    "pred_test = xg_model.predict(x_test)"
   ]
  },
  {
   "cell_type": "code",
   "execution_count": 110,
   "id": "226bebde",
   "metadata": {},
   "outputs": [
    {
     "name": "stdout",
     "output_type": "stream",
     "text": [
      "accuracy socre of training data: 0.8593579978237215\n",
      "accuracy socre of testing data: 0.8552949709864603\n",
      "f1 score: 0.8554871423397321\n",
      "precision score: 0.8666829745596869\n",
      "recall score: 0.8445768772348033\n"
     ]
    }
   ],
   "source": [
    "print('accuracy socre of training data:',accuracy_score(y_train,pred_train))\n",
    "print('accuracy socre of testing data:',accuracy_score(y_test,pred_test))\n",
    "print('f1 score:',f1_score(y_test, pred_test))\n",
    "print('precision score:',precision_score(y_test,pred_test))\n",
    "print('recall score:',recall_score(y_test,pred_test))"
   ]
  },
  {
   "cell_type": "code",
   "execution_count": null,
   "id": "fcb0d889",
   "metadata": {},
   "outputs": [],
   "source": []
  },
  {
   "cell_type": "markdown",
   "id": "7c4cb06b",
   "metadata": {},
   "source": [
    "# Modelling with Random Forest Classifier"
   ]
  },
  {
   "cell_type": "code",
   "execution_count": 111,
   "id": "619bce7c",
   "metadata": {},
   "outputs": [
    {
     "name": "stdout",
     "output_type": "stream",
     "text": [
      "classification report:\n",
      "\t               precision    recall  f1-score   support\n",
      "\n",
      "           0       0.88      0.86      0.87      4185\n",
      "           1       0.86      0.89      0.87      4087\n",
      "\n",
      "    accuracy                           0.87      8272\n",
      "   macro avg       0.87      0.87      0.87      8272\n",
      "weighted avg       0.87      0.87      0.87      8272\n",
      "\n"
     ]
    }
   ],
   "source": [
    "from sklearn.ensemble import RandomForestClassifier\n",
    "RF_classifier = RandomForestClassifier(max_depth=2, max_features=4,\n",
    "                                                      min_samples_leaf=25)\n",
    "\n",
    "\n",
    "RF_classifier.fit(x_train,y_train)\n",
    "pred_1 = dt_classifier.predict(x_train)\n",
    "pred_2 = dt_classifier.predict(x_test)\n",
    "\n",
    "print('classification report:\\n\\t',classification_report(pred_2,y_test))"
   ]
  },
  {
   "cell_type": "code",
   "execution_count": 112,
   "id": "d923e53c",
   "metadata": {},
   "outputs": [
    {
     "name": "stdout",
     "output_type": "stream",
     "text": [
      "accuracy socre of training data: 0.8851710796759763\n",
      "accuracy socre of testing data: 0.8733075435203095\n",
      "f1 score: 0.8734605167833857\n",
      "precision score: 0.8850012233912405\n",
      "recall score: 0.8622169249106079\n"
     ]
    }
   ],
   "source": [
    "print('accuracy socre of training data:',accuracy_score(y_train, pred_1))\n",
    "print('accuracy socre of testing data:',accuracy_score(y_test, pred_2))\n",
    "print('f1 score:',f1_score(y_test, pred_2))\n",
    "print('precision score:',precision_score(y_test, pred_2))\n",
    "print('recall score:',recall_score(y_test, pred_2))"
   ]
  },
  {
   "cell_type": "code",
   "execution_count": null,
   "id": "a8052ebb",
   "metadata": {},
   "outputs": [],
   "source": []
  },
  {
   "cell_type": "code",
   "execution_count": null,
   "id": "b02cfdac",
   "metadata": {},
   "outputs": [],
   "source": []
  },
  {
   "cell_type": "code",
   "execution_count": null,
   "id": "6275bbbb",
   "metadata": {},
   "outputs": [],
   "source": []
  },
  {
   "cell_type": "code",
   "execution_count": null,
   "id": "6cb3b8e0",
   "metadata": {},
   "outputs": [],
   "source": []
  }
 ],
 "metadata": {
  "kernelspec": {
   "display_name": "Python 3 (ipykernel)",
   "language": "python",
   "name": "python3"
  },
  "language_info": {
   "codemirror_mode": {
    "name": "ipython",
    "version": 3
   },
   "file_extension": ".py",
   "mimetype": "text/x-python",
   "name": "python",
   "nbconvert_exporter": "python",
   "pygments_lexer": "ipython3",
   "version": "3.9.12"
  }
 },
 "nbformat": 4,
 "nbformat_minor": 5
}
